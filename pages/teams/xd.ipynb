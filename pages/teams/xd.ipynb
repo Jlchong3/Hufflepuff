{
 "cells": [
  {
   "cell_type": "code",
   "execution_count": 26,
   "metadata": {},
   "outputs": [],
   "source": [
    "import pandas as pd\n",
    "import numpy as np\n",
    "from jupyter_dash import JupyterDash\n",
    "from dash import Dash, dcc, html, Input, Output\n",
    "import plotly.express as px\n",
    "import plotly.graph_objects as go"
   ]
  },
  {
   "cell_type": "code",
   "execution_count": 27,
   "metadata": {},
   "outputs": [],
   "source": [
    "df = pd.read_csv('../NBA_Team_Stats.csv')"
   ]
  },
  {
   "cell_type": "code",
   "execution_count": 28,
   "metadata": {},
   "outputs": [
    {
     "data": {
      "text/html": [
       "<div>\n",
       "<style scoped>\n",
       "    .dataframe tbody tr th:only-of-type {\n",
       "        vertical-align: middle;\n",
       "    }\n",
       "\n",
       "    .dataframe tbody tr th {\n",
       "        vertical-align: top;\n",
       "    }\n",
       "\n",
       "    .dataframe thead th {\n",
       "        text-align: right;\n",
       "    }\n",
       "</style>\n",
       "<table border=\"1\" class=\"dataframe\">\n",
       "  <thead>\n",
       "    <tr style=\"text-align: right;\">\n",
       "      <th></th>\n",
       "      <th>No</th>\n",
       "      <th>Team</th>\n",
       "      <th>G</th>\n",
       "      <th>Min</th>\n",
       "      <th>Pts</th>\n",
       "      <th>Reb</th>\n",
       "      <th>Ast</th>\n",
       "      <th>Stl</th>\n",
       "      <th>Blk</th>\n",
       "      <th>To</th>\n",
       "      <th>...</th>\n",
       "      <th>Oreb</th>\n",
       "      <th>Fgm-a</th>\n",
       "      <th>Pct</th>\n",
       "      <th>3gm-a</th>\n",
       "      <th>Pct.1</th>\n",
       "      <th>Ftm-a</th>\n",
       "      <th>Pct.2</th>\n",
       "      <th>Eff</th>\n",
       "      <th>Deff</th>\n",
       "      <th>Year</th>\n",
       "    </tr>\n",
       "  </thead>\n",
       "  <tbody>\n",
       "    <tr>\n",
       "      <th>0</th>\n",
       "      <td>1</td>\n",
       "      <td>Chicago</td>\n",
       "      <td>103</td>\n",
       "      <td>48.4</td>\n",
       "      <td>96.0</td>\n",
       "      <td>44.1</td>\n",
       "      <td>23.1</td>\n",
       "      <td>8.6</td>\n",
       "      <td>4.3</td>\n",
       "      <td>13.0</td>\n",
       "      <td>...</td>\n",
       "      <td>14.9</td>\n",
       "      <td>36.7-81.7</td>\n",
       "      <td>0.449</td>\n",
       "      <td>3.9-12.0</td>\n",
       "      <td>0.323</td>\n",
       "      <td>18.7-25.2</td>\n",
       "      <td>0.741</td>\n",
       "      <td>111.6</td>\n",
       "      <td>17.5</td>\n",
       "      <td>1997-1998</td>\n",
       "    </tr>\n",
       "    <tr>\n",
       "      <th>1</th>\n",
       "      <td>2</td>\n",
       "      <td>Utah</td>\n",
       "      <td>102</td>\n",
       "      <td>48.3</td>\n",
       "      <td>98.6</td>\n",
       "      <td>40.8</td>\n",
       "      <td>24.7</td>\n",
       "      <td>7.6</td>\n",
       "      <td>4.8</td>\n",
       "      <td>14.7</td>\n",
       "      <td>...</td>\n",
       "      <td>11.3</td>\n",
       "      <td>35.9-74.3</td>\n",
       "      <td>0.483</td>\n",
       "      <td>3.1-8.4</td>\n",
       "      <td>0.368</td>\n",
       "      <td>23.8-30.9</td>\n",
       "      <td>0.768</td>\n",
       "      <td>116.3</td>\n",
       "      <td>17.5</td>\n",
       "      <td>1997-1998</td>\n",
       "    </tr>\n",
       "    <tr>\n",
       "      <th>2</th>\n",
       "      <td>3</td>\n",
       "      <td>Phoenix</td>\n",
       "      <td>86</td>\n",
       "      <td>48.6</td>\n",
       "      <td>99.3</td>\n",
       "      <td>41.9</td>\n",
       "      <td>25.6</td>\n",
       "      <td>9.2</td>\n",
       "      <td>5.3</td>\n",
       "      <td>14.4</td>\n",
       "      <td>...</td>\n",
       "      <td>12.1</td>\n",
       "      <td>38.2-82.0</td>\n",
       "      <td>0.466</td>\n",
       "      <td>5.2-14.7</td>\n",
       "      <td>0.355</td>\n",
       "      <td>17.7-23.6</td>\n",
       "      <td>0.747</td>\n",
       "      <td>117.1</td>\n",
       "      <td>13.6</td>\n",
       "      <td>1997-1998</td>\n",
       "    </tr>\n",
       "    <tr>\n",
       "      <th>3</th>\n",
       "      <td>4</td>\n",
       "      <td>L.A.Lakers</td>\n",
       "      <td>95</td>\n",
       "      <td>48.3</td>\n",
       "      <td>104.8</td>\n",
       "      <td>42.9</td>\n",
       "      <td>24.3</td>\n",
       "      <td>8.7</td>\n",
       "      <td>6.8</td>\n",
       "      <td>14.7</td>\n",
       "      <td>...</td>\n",
       "      <td>13.2</td>\n",
       "      <td>38.0-79.1</td>\n",
       "      <td>0.480</td>\n",
       "      <td>6.1-17.3</td>\n",
       "      <td>0.350</td>\n",
       "      <td>22.8-33.7</td>\n",
       "      <td>0.675</td>\n",
       "      <td>120.8</td>\n",
       "      <td>13.2</td>\n",
       "      <td>1997-1998</td>\n",
       "    </tr>\n",
       "    <tr>\n",
       "      <th>4</th>\n",
       "      <td>5</td>\n",
       "      <td>San Antonio</td>\n",
       "      <td>91</td>\n",
       "      <td>48.4</td>\n",
       "      <td>92.5</td>\n",
       "      <td>44.1</td>\n",
       "      <td>21.9</td>\n",
       "      <td>6.2</td>\n",
       "      <td>6.9</td>\n",
       "      <td>15.3</td>\n",
       "      <td>...</td>\n",
       "      <td>11.9</td>\n",
       "      <td>35.1-75.1</td>\n",
       "      <td>0.468</td>\n",
       "      <td>3.7-10.8</td>\n",
       "      <td>0.344</td>\n",
       "      <td>18.5-26.8</td>\n",
       "      <td>0.688</td>\n",
       "      <td>108.0</td>\n",
       "      <td>13.1</td>\n",
       "      <td>1997-1998</td>\n",
       "    </tr>\n",
       "    <tr>\n",
       "      <th>...</th>\n",
       "      <td>...</td>\n",
       "      <td>...</td>\n",
       "      <td>...</td>\n",
       "      <td>...</td>\n",
       "      <td>...</td>\n",
       "      <td>...</td>\n",
       "      <td>...</td>\n",
       "      <td>...</td>\n",
       "      <td>...</td>\n",
       "      <td>...</td>\n",
       "      <td>...</td>\n",
       "      <td>...</td>\n",
       "      <td>...</td>\n",
       "      <td>...</td>\n",
       "      <td>...</td>\n",
       "      <td>...</td>\n",
       "      <td>...</td>\n",
       "      <td>...</td>\n",
       "      <td>...</td>\n",
       "      <td>...</td>\n",
       "      <td>...</td>\n",
       "    </tr>\n",
       "    <tr>\n",
       "      <th>720</th>\n",
       "      <td>25</td>\n",
       "      <td>Sacramento</td>\n",
       "      <td>82</td>\n",
       "      <td>48.3</td>\n",
       "      <td>110.3</td>\n",
       "      <td>42.9</td>\n",
       "      <td>23.7</td>\n",
       "      <td>7.2</td>\n",
       "      <td>4.5</td>\n",
       "      <td>13.5</td>\n",
       "      <td>...</td>\n",
       "      <td>9.6</td>\n",
       "      <td>40.5-88.1</td>\n",
       "      <td>0.460</td>\n",
       "      <td>11.4-33.2</td>\n",
       "      <td>0.344</td>\n",
       "      <td>17.9-23.3</td>\n",
       "      <td>0.768</td>\n",
       "      <td>122.1</td>\n",
       "      <td>-13.4</td>\n",
       "      <td>2021-2022</td>\n",
       "    </tr>\n",
       "    <tr>\n",
       "      <th>721</th>\n",
       "      <td>26</td>\n",
       "      <td>Orlando</td>\n",
       "      <td>82</td>\n",
       "      <td>48.2</td>\n",
       "      <td>104.2</td>\n",
       "      <td>44.3</td>\n",
       "      <td>23.7</td>\n",
       "      <td>6.8</td>\n",
       "      <td>4.5</td>\n",
       "      <td>13.8</td>\n",
       "      <td>...</td>\n",
       "      <td>9.1</td>\n",
       "      <td>38.3-88.3</td>\n",
       "      <td>0.434</td>\n",
       "      <td>12.2-36.8</td>\n",
       "      <td>0.331</td>\n",
       "      <td>15.5-19.7</td>\n",
       "      <td>0.787</td>\n",
       "      <td>115.5</td>\n",
       "      <td>-16.0</td>\n",
       "      <td>2021-2022</td>\n",
       "    </tr>\n",
       "    <tr>\n",
       "      <th>722</th>\n",
       "      <td>27</td>\n",
       "      <td>Detroit</td>\n",
       "      <td>82</td>\n",
       "      <td>48.2</td>\n",
       "      <td>104.8</td>\n",
       "      <td>43.0</td>\n",
       "      <td>23.5</td>\n",
       "      <td>7.7</td>\n",
       "      <td>4.8</td>\n",
       "      <td>13.4</td>\n",
       "      <td>...</td>\n",
       "      <td>11.0</td>\n",
       "      <td>38.2-88.6</td>\n",
       "      <td>0.430</td>\n",
       "      <td>11.3-34.6</td>\n",
       "      <td>0.326</td>\n",
       "      <td>17.2-22.0</td>\n",
       "      <td>0.782</td>\n",
       "      <td>115.1</td>\n",
       "      <td>-16.7</td>\n",
       "      <td>2021-2022</td>\n",
       "    </tr>\n",
       "    <tr>\n",
       "      <th>723</th>\n",
       "      <td>28</td>\n",
       "      <td>Portland</td>\n",
       "      <td>82</td>\n",
       "      <td>48.1</td>\n",
       "      <td>106.2</td>\n",
       "      <td>42.9</td>\n",
       "      <td>22.9</td>\n",
       "      <td>8.0</td>\n",
       "      <td>4.5</td>\n",
       "      <td>13.7</td>\n",
       "      <td>...</td>\n",
       "      <td>10.4</td>\n",
       "      <td>38.5-87.1</td>\n",
       "      <td>0.443</td>\n",
       "      <td>12.7-36.8</td>\n",
       "      <td>0.346</td>\n",
       "      <td>16.4-21.6</td>\n",
       "      <td>0.760</td>\n",
       "      <td>117.1</td>\n",
       "      <td>-19.0</td>\n",
       "      <td>2021-2022</td>\n",
       "    </tr>\n",
       "    <tr>\n",
       "      <th>724</th>\n",
       "      <td>29</td>\n",
       "      <td>Oklahoma City</td>\n",
       "      <td>82</td>\n",
       "      <td>48.3</td>\n",
       "      <td>103.7</td>\n",
       "      <td>45.6</td>\n",
       "      <td>22.2</td>\n",
       "      <td>7.6</td>\n",
       "      <td>4.6</td>\n",
       "      <td>13.3</td>\n",
       "      <td>...</td>\n",
       "      <td>10.4</td>\n",
       "      <td>38.3-89.1</td>\n",
       "      <td>0.430</td>\n",
       "      <td>12.1-37.4</td>\n",
       "      <td>0.323</td>\n",
       "      <td>15.0-19.9</td>\n",
       "      <td>0.756</td>\n",
       "      <td>114.8</td>\n",
       "      <td>-19.2</td>\n",
       "      <td>2021-2022</td>\n",
       "    </tr>\n",
       "  </tbody>\n",
       "</table>\n",
       "<p>725 rows × 22 columns</p>\n",
       "</div>"
      ],
      "text/plain": [
       "     No           Team    G   Min    Pts   Reb   Ast  Stl  Blk    To  ...  \\\n",
       "0     1        Chicago  103  48.4   96.0  44.1  23.1  8.6  4.3  13.0  ...   \n",
       "1     2           Utah  102  48.3   98.6  40.8  24.7  7.6  4.8  14.7  ...   \n",
       "2     3        Phoenix   86  48.6   99.3  41.9  25.6  9.2  5.3  14.4  ...   \n",
       "3     4     L.A.Lakers   95  48.3  104.8  42.9  24.3  8.7  6.8  14.7  ...   \n",
       "4     5    San Antonio   91  48.4   92.5  44.1  21.9  6.2  6.9  15.3  ...   \n",
       "..   ..            ...  ...   ...    ...   ...   ...  ...  ...   ...  ...   \n",
       "720  25     Sacramento   82  48.3  110.3  42.9  23.7  7.2  4.5  13.5  ...   \n",
       "721  26        Orlando   82  48.2  104.2  44.3  23.7  6.8  4.5  13.8  ...   \n",
       "722  27        Detroit   82  48.2  104.8  43.0  23.5  7.7  4.8  13.4  ...   \n",
       "723  28       Portland   82  48.1  106.2  42.9  22.9  8.0  4.5  13.7  ...   \n",
       "724  29  Oklahoma City   82  48.3  103.7  45.6  22.2  7.6  4.6  13.3  ...   \n",
       "\n",
       "     Oreb      Fgm-a    Pct      3gm-a  Pct.1      Ftm-a  Pct.2    Eff  Deff  \\\n",
       "0    14.9  36.7-81.7  0.449   3.9-12.0  0.323  18.7-25.2  0.741  111.6  17.5   \n",
       "1    11.3  35.9-74.3  0.483    3.1-8.4  0.368  23.8-30.9  0.768  116.3  17.5   \n",
       "2    12.1  38.2-82.0  0.466   5.2-14.7  0.355  17.7-23.6  0.747  117.1  13.6   \n",
       "3    13.2  38.0-79.1  0.480   6.1-17.3  0.350  22.8-33.7  0.675  120.8  13.2   \n",
       "4    11.9  35.1-75.1  0.468   3.7-10.8  0.344  18.5-26.8  0.688  108.0  13.1   \n",
       "..    ...        ...    ...        ...    ...        ...    ...    ...   ...   \n",
       "720   9.6  40.5-88.1  0.460  11.4-33.2  0.344  17.9-23.3  0.768  122.1 -13.4   \n",
       "721   9.1  38.3-88.3  0.434  12.2-36.8  0.331  15.5-19.7  0.787  115.5 -16.0   \n",
       "722  11.0  38.2-88.6  0.430  11.3-34.6  0.326  17.2-22.0  0.782  115.1 -16.7   \n",
       "723  10.4  38.5-87.1  0.443  12.7-36.8  0.346  16.4-21.6  0.760  117.1 -19.0   \n",
       "724  10.4  38.3-89.1  0.430  12.1-37.4  0.323  15.0-19.9  0.756  114.8 -19.2   \n",
       "\n",
       "          Year  \n",
       "0    1997-1998  \n",
       "1    1997-1998  \n",
       "2    1997-1998  \n",
       "3    1997-1998  \n",
       "4    1997-1998  \n",
       "..         ...  \n",
       "720  2021-2022  \n",
       "721  2021-2022  \n",
       "722  2021-2022  \n",
       "723  2021-2022  \n",
       "724  2021-2022  \n",
       "\n",
       "[725 rows x 22 columns]"
      ]
     },
     "execution_count": 28,
     "metadata": {},
     "output_type": "execute_result"
    }
   ],
   "source": [
    "df"
   ]
  },
  {
   "cell_type": "code",
   "execution_count": 29,
   "metadata": {},
   "outputs": [
    {
     "data": {
      "text/html": [
       "<div>\n",
       "<style scoped>\n",
       "    .dataframe tbody tr th:only-of-type {\n",
       "        vertical-align: middle;\n",
       "    }\n",
       "\n",
       "    .dataframe tbody tr th {\n",
       "        vertical-align: top;\n",
       "    }\n",
       "\n",
       "    .dataframe thead th {\n",
       "        text-align: right;\n",
       "    }\n",
       "</style>\n",
       "<table border=\"1\" class=\"dataframe\">\n",
       "  <thead>\n",
       "    <tr style=\"text-align: right;\">\n",
       "      <th></th>\n",
       "      <th>No</th>\n",
       "      <th>Team</th>\n",
       "      <th>G</th>\n",
       "      <th>Min</th>\n",
       "      <th>Pts</th>\n",
       "      <th>Reb</th>\n",
       "      <th>Ast</th>\n",
       "      <th>Stl</th>\n",
       "      <th>Blk</th>\n",
       "      <th>To</th>\n",
       "      <th>...</th>\n",
       "      <th>Pct</th>\n",
       "      <th>3gm-a</th>\n",
       "      <th>Pct.1</th>\n",
       "      <th>Ftm-a</th>\n",
       "      <th>Pct.2</th>\n",
       "      <th>Eff</th>\n",
       "      <th>Deff</th>\n",
       "      <th>Year</th>\n",
       "      <th>3pm</th>\n",
       "      <th>3pa</th>\n",
       "    </tr>\n",
       "  </thead>\n",
       "  <tbody>\n",
       "    <tr>\n",
       "      <th>0</th>\n",
       "      <td>1</td>\n",
       "      <td>Chicago</td>\n",
       "      <td>103</td>\n",
       "      <td>48.4</td>\n",
       "      <td>96.0</td>\n",
       "      <td>44.1</td>\n",
       "      <td>23.1</td>\n",
       "      <td>8.6</td>\n",
       "      <td>4.3</td>\n",
       "      <td>13.0</td>\n",
       "      <td>...</td>\n",
       "      <td>0.449</td>\n",
       "      <td>3.9-12.0</td>\n",
       "      <td>0.323</td>\n",
       "      <td>18.7-25.2</td>\n",
       "      <td>0.741</td>\n",
       "      <td>111.6</td>\n",
       "      <td>17.5</td>\n",
       "      <td>1997-1998</td>\n",
       "      <td>3.9</td>\n",
       "      <td>12.0</td>\n",
       "    </tr>\n",
       "    <tr>\n",
       "      <th>1</th>\n",
       "      <td>2</td>\n",
       "      <td>Utah</td>\n",
       "      <td>102</td>\n",
       "      <td>48.3</td>\n",
       "      <td>98.6</td>\n",
       "      <td>40.8</td>\n",
       "      <td>24.7</td>\n",
       "      <td>7.6</td>\n",
       "      <td>4.8</td>\n",
       "      <td>14.7</td>\n",
       "      <td>...</td>\n",
       "      <td>0.483</td>\n",
       "      <td>3.1-8.4</td>\n",
       "      <td>0.368</td>\n",
       "      <td>23.8-30.9</td>\n",
       "      <td>0.768</td>\n",
       "      <td>116.3</td>\n",
       "      <td>17.5</td>\n",
       "      <td>1997-1998</td>\n",
       "      <td>3.1</td>\n",
       "      <td>8.4</td>\n",
       "    </tr>\n",
       "    <tr>\n",
       "      <th>2</th>\n",
       "      <td>3</td>\n",
       "      <td>Phoenix</td>\n",
       "      <td>86</td>\n",
       "      <td>48.6</td>\n",
       "      <td>99.3</td>\n",
       "      <td>41.9</td>\n",
       "      <td>25.6</td>\n",
       "      <td>9.2</td>\n",
       "      <td>5.3</td>\n",
       "      <td>14.4</td>\n",
       "      <td>...</td>\n",
       "      <td>0.466</td>\n",
       "      <td>5.2-14.7</td>\n",
       "      <td>0.355</td>\n",
       "      <td>17.7-23.6</td>\n",
       "      <td>0.747</td>\n",
       "      <td>117.1</td>\n",
       "      <td>13.6</td>\n",
       "      <td>1997-1998</td>\n",
       "      <td>5.2</td>\n",
       "      <td>14.7</td>\n",
       "    </tr>\n",
       "    <tr>\n",
       "      <th>3</th>\n",
       "      <td>4</td>\n",
       "      <td>L.A.Lakers</td>\n",
       "      <td>95</td>\n",
       "      <td>48.3</td>\n",
       "      <td>104.8</td>\n",
       "      <td>42.9</td>\n",
       "      <td>24.3</td>\n",
       "      <td>8.7</td>\n",
       "      <td>6.8</td>\n",
       "      <td>14.7</td>\n",
       "      <td>...</td>\n",
       "      <td>0.480</td>\n",
       "      <td>6.1-17.3</td>\n",
       "      <td>0.350</td>\n",
       "      <td>22.8-33.7</td>\n",
       "      <td>0.675</td>\n",
       "      <td>120.8</td>\n",
       "      <td>13.2</td>\n",
       "      <td>1997-1998</td>\n",
       "      <td>6.1</td>\n",
       "      <td>17.3</td>\n",
       "    </tr>\n",
       "    <tr>\n",
       "      <th>4</th>\n",
       "      <td>5</td>\n",
       "      <td>San Antonio</td>\n",
       "      <td>91</td>\n",
       "      <td>48.4</td>\n",
       "      <td>92.5</td>\n",
       "      <td>44.1</td>\n",
       "      <td>21.9</td>\n",
       "      <td>6.2</td>\n",
       "      <td>6.9</td>\n",
       "      <td>15.3</td>\n",
       "      <td>...</td>\n",
       "      <td>0.468</td>\n",
       "      <td>3.7-10.8</td>\n",
       "      <td>0.344</td>\n",
       "      <td>18.5-26.8</td>\n",
       "      <td>0.688</td>\n",
       "      <td>108.0</td>\n",
       "      <td>13.1</td>\n",
       "      <td>1997-1998</td>\n",
       "      <td>3.7</td>\n",
       "      <td>10.8</td>\n",
       "    </tr>\n",
       "    <tr>\n",
       "      <th>...</th>\n",
       "      <td>...</td>\n",
       "      <td>...</td>\n",
       "      <td>...</td>\n",
       "      <td>...</td>\n",
       "      <td>...</td>\n",
       "      <td>...</td>\n",
       "      <td>...</td>\n",
       "      <td>...</td>\n",
       "      <td>...</td>\n",
       "      <td>...</td>\n",
       "      <td>...</td>\n",
       "      <td>...</td>\n",
       "      <td>...</td>\n",
       "      <td>...</td>\n",
       "      <td>...</td>\n",
       "      <td>...</td>\n",
       "      <td>...</td>\n",
       "      <td>...</td>\n",
       "      <td>...</td>\n",
       "      <td>...</td>\n",
       "      <td>...</td>\n",
       "    </tr>\n",
       "    <tr>\n",
       "      <th>720</th>\n",
       "      <td>25</td>\n",
       "      <td>Sacramento</td>\n",
       "      <td>82</td>\n",
       "      <td>48.3</td>\n",
       "      <td>110.3</td>\n",
       "      <td>42.9</td>\n",
       "      <td>23.7</td>\n",
       "      <td>7.2</td>\n",
       "      <td>4.5</td>\n",
       "      <td>13.5</td>\n",
       "      <td>...</td>\n",
       "      <td>0.460</td>\n",
       "      <td>11.4-33.2</td>\n",
       "      <td>0.344</td>\n",
       "      <td>17.9-23.3</td>\n",
       "      <td>0.768</td>\n",
       "      <td>122.1</td>\n",
       "      <td>-13.4</td>\n",
       "      <td>2021-2022</td>\n",
       "      <td>11.4</td>\n",
       "      <td>33.2</td>\n",
       "    </tr>\n",
       "    <tr>\n",
       "      <th>721</th>\n",
       "      <td>26</td>\n",
       "      <td>Orlando</td>\n",
       "      <td>82</td>\n",
       "      <td>48.2</td>\n",
       "      <td>104.2</td>\n",
       "      <td>44.3</td>\n",
       "      <td>23.7</td>\n",
       "      <td>6.8</td>\n",
       "      <td>4.5</td>\n",
       "      <td>13.8</td>\n",
       "      <td>...</td>\n",
       "      <td>0.434</td>\n",
       "      <td>12.2-36.8</td>\n",
       "      <td>0.331</td>\n",
       "      <td>15.5-19.7</td>\n",
       "      <td>0.787</td>\n",
       "      <td>115.5</td>\n",
       "      <td>-16.0</td>\n",
       "      <td>2021-2022</td>\n",
       "      <td>12.2</td>\n",
       "      <td>36.8</td>\n",
       "    </tr>\n",
       "    <tr>\n",
       "      <th>722</th>\n",
       "      <td>27</td>\n",
       "      <td>Detroit</td>\n",
       "      <td>82</td>\n",
       "      <td>48.2</td>\n",
       "      <td>104.8</td>\n",
       "      <td>43.0</td>\n",
       "      <td>23.5</td>\n",
       "      <td>7.7</td>\n",
       "      <td>4.8</td>\n",
       "      <td>13.4</td>\n",
       "      <td>...</td>\n",
       "      <td>0.430</td>\n",
       "      <td>11.3-34.6</td>\n",
       "      <td>0.326</td>\n",
       "      <td>17.2-22.0</td>\n",
       "      <td>0.782</td>\n",
       "      <td>115.1</td>\n",
       "      <td>-16.7</td>\n",
       "      <td>2021-2022</td>\n",
       "      <td>11.3</td>\n",
       "      <td>34.6</td>\n",
       "    </tr>\n",
       "    <tr>\n",
       "      <th>723</th>\n",
       "      <td>28</td>\n",
       "      <td>Portland</td>\n",
       "      <td>82</td>\n",
       "      <td>48.1</td>\n",
       "      <td>106.2</td>\n",
       "      <td>42.9</td>\n",
       "      <td>22.9</td>\n",
       "      <td>8.0</td>\n",
       "      <td>4.5</td>\n",
       "      <td>13.7</td>\n",
       "      <td>...</td>\n",
       "      <td>0.443</td>\n",
       "      <td>12.7-36.8</td>\n",
       "      <td>0.346</td>\n",
       "      <td>16.4-21.6</td>\n",
       "      <td>0.760</td>\n",
       "      <td>117.1</td>\n",
       "      <td>-19.0</td>\n",
       "      <td>2021-2022</td>\n",
       "      <td>12.7</td>\n",
       "      <td>36.8</td>\n",
       "    </tr>\n",
       "    <tr>\n",
       "      <th>724</th>\n",
       "      <td>29</td>\n",
       "      <td>Oklahoma City</td>\n",
       "      <td>82</td>\n",
       "      <td>48.3</td>\n",
       "      <td>103.7</td>\n",
       "      <td>45.6</td>\n",
       "      <td>22.2</td>\n",
       "      <td>7.6</td>\n",
       "      <td>4.6</td>\n",
       "      <td>13.3</td>\n",
       "      <td>...</td>\n",
       "      <td>0.430</td>\n",
       "      <td>12.1-37.4</td>\n",
       "      <td>0.323</td>\n",
       "      <td>15.0-19.9</td>\n",
       "      <td>0.756</td>\n",
       "      <td>114.8</td>\n",
       "      <td>-19.2</td>\n",
       "      <td>2021-2022</td>\n",
       "      <td>12.1</td>\n",
       "      <td>37.4</td>\n",
       "    </tr>\n",
       "  </tbody>\n",
       "</table>\n",
       "<p>725 rows × 24 columns</p>\n",
       "</div>"
      ],
      "text/plain": [
       "     No           Team    G   Min    Pts   Reb   Ast  Stl  Blk    To  ...  \\\n",
       "0     1        Chicago  103  48.4   96.0  44.1  23.1  8.6  4.3  13.0  ...   \n",
       "1     2           Utah  102  48.3   98.6  40.8  24.7  7.6  4.8  14.7  ...   \n",
       "2     3        Phoenix   86  48.6   99.3  41.9  25.6  9.2  5.3  14.4  ...   \n",
       "3     4     L.A.Lakers   95  48.3  104.8  42.9  24.3  8.7  6.8  14.7  ...   \n",
       "4     5    San Antonio   91  48.4   92.5  44.1  21.9  6.2  6.9  15.3  ...   \n",
       "..   ..            ...  ...   ...    ...   ...   ...  ...  ...   ...  ...   \n",
       "720  25     Sacramento   82  48.3  110.3  42.9  23.7  7.2  4.5  13.5  ...   \n",
       "721  26        Orlando   82  48.2  104.2  44.3  23.7  6.8  4.5  13.8  ...   \n",
       "722  27        Detroit   82  48.2  104.8  43.0  23.5  7.7  4.8  13.4  ...   \n",
       "723  28       Portland   82  48.1  106.2  42.9  22.9  8.0  4.5  13.7  ...   \n",
       "724  29  Oklahoma City   82  48.3  103.7  45.6  22.2  7.6  4.6  13.3  ...   \n",
       "\n",
       "       Pct      3gm-a  Pct.1      Ftm-a  Pct.2    Eff  Deff       Year   3pm  \\\n",
       "0    0.449   3.9-12.0  0.323  18.7-25.2  0.741  111.6  17.5  1997-1998   3.9   \n",
       "1    0.483    3.1-8.4  0.368  23.8-30.9  0.768  116.3  17.5  1997-1998   3.1   \n",
       "2    0.466   5.2-14.7  0.355  17.7-23.6  0.747  117.1  13.6  1997-1998   5.2   \n",
       "3    0.480   6.1-17.3  0.350  22.8-33.7  0.675  120.8  13.2  1997-1998   6.1   \n",
       "4    0.468   3.7-10.8  0.344  18.5-26.8  0.688  108.0  13.1  1997-1998   3.7   \n",
       "..     ...        ...    ...        ...    ...    ...   ...        ...   ...   \n",
       "720  0.460  11.4-33.2  0.344  17.9-23.3  0.768  122.1 -13.4  2021-2022  11.4   \n",
       "721  0.434  12.2-36.8  0.331  15.5-19.7  0.787  115.5 -16.0  2021-2022  12.2   \n",
       "722  0.430  11.3-34.6  0.326  17.2-22.0  0.782  115.1 -16.7  2021-2022  11.3   \n",
       "723  0.443  12.7-36.8  0.346  16.4-21.6  0.760  117.1 -19.0  2021-2022  12.7   \n",
       "724  0.430  12.1-37.4  0.323  15.0-19.9  0.756  114.8 -19.2  2021-2022  12.1   \n",
       "\n",
       "      3pa  \n",
       "0    12.0  \n",
       "1     8.4  \n",
       "2    14.7  \n",
       "3    17.3  \n",
       "4    10.8  \n",
       "..    ...  \n",
       "720  33.2  \n",
       "721  36.8  \n",
       "722  34.6  \n",
       "723  36.8  \n",
       "724  37.4  \n",
       "\n",
       "[725 rows x 24 columns]"
      ]
     },
     "execution_count": 29,
     "metadata": {},
     "output_type": "execute_result"
    }
   ],
   "source": [
    "_3pm = []\n",
    "_3pa = []\n",
    "for x in df['3gm-a']:\n",
    "    m,a = x.split('-')\n",
    "    _3pm.append(float(m))\n",
    "    _3pa.append(float(a))\n",
    "\n",
    "df['3pm'] = _3pm\n",
    "df['3pa'] = _3pa\n",
    "df"
   ]
  },
  {
   "cell_type": "code",
   "execution_count": 30,
   "metadata": {},
   "outputs": [
    {
     "data": {
      "text/html": [
       "<div>\n",
       "<style scoped>\n",
       "    .dataframe tbody tr th:only-of-type {\n",
       "        vertical-align: middle;\n",
       "    }\n",
       "\n",
       "    .dataframe tbody tr th {\n",
       "        vertical-align: top;\n",
       "    }\n",
       "\n",
       "    .dataframe thead th {\n",
       "        text-align: right;\n",
       "    }\n",
       "</style>\n",
       "<table border=\"1\" class=\"dataframe\">\n",
       "  <thead>\n",
       "    <tr style=\"text-align: right;\">\n",
       "      <th></th>\n",
       "      <th>No</th>\n",
       "      <th>G</th>\n",
       "      <th>Min</th>\n",
       "      <th>Pts</th>\n",
       "      <th>Reb</th>\n",
       "      <th>Ast</th>\n",
       "      <th>Stl</th>\n",
       "      <th>Blk</th>\n",
       "      <th>To</th>\n",
       "      <th>Pf</th>\n",
       "      <th>Dreb</th>\n",
       "      <th>Oreb</th>\n",
       "      <th>Pct</th>\n",
       "      <th>Pct.1</th>\n",
       "      <th>Pct.2</th>\n",
       "      <th>Eff</th>\n",
       "      <th>Deff</th>\n",
       "      <th>3pm</th>\n",
       "      <th>3pa</th>\n",
       "    </tr>\n",
       "  </thead>\n",
       "  <tbody>\n",
       "    <tr>\n",
       "      <th>count</th>\n",
       "      <td>725.000000</td>\n",
       "      <td>725.000000</td>\n",
       "      <td>725.000000</td>\n",
       "      <td>725.000000</td>\n",
       "      <td>725.000000</td>\n",
       "      <td>725.000000</td>\n",
       "      <td>725.000000</td>\n",
       "      <td>725.000000</td>\n",
       "      <td>725.000000</td>\n",
       "      <td>725.000000</td>\n",
       "      <td>725.000000</td>\n",
       "      <td>725.000000</td>\n",
       "      <td>725.000000</td>\n",
       "      <td>725.000000</td>\n",
       "      <td>725.000000</td>\n",
       "      <td>725.000000</td>\n",
       "      <td>725.000000</td>\n",
       "      <td>725.000000</td>\n",
       "      <td>725.000000</td>\n",
       "    </tr>\n",
       "    <tr>\n",
       "      <th>mean</th>\n",
       "      <td>15.000000</td>\n",
       "      <td>84.660690</td>\n",
       "      <td>46.081517</td>\n",
       "      <td>100.309379</td>\n",
       "      <td>42.576828</td>\n",
       "      <td>22.051724</td>\n",
       "      <td>7.641241</td>\n",
       "      <td>4.909517</td>\n",
       "      <td>13.836828</td>\n",
       "      <td>21.174345</td>\n",
       "      <td>31.391448</td>\n",
       "      <td>11.186897</td>\n",
       "      <td>0.452305</td>\n",
       "      <td>0.353448</td>\n",
       "      <td>0.757706</td>\n",
       "      <td>112.577793</td>\n",
       "      <td>-0.051448</td>\n",
       "      <td>7.365379</td>\n",
       "      <td>20.710897</td>\n",
       "    </tr>\n",
       "    <tr>\n",
       "      <th>std</th>\n",
       "      <td>8.372376</td>\n",
       "      <td>9.937549</td>\n",
       "      <td>7.698169</td>\n",
       "      <td>7.049589</td>\n",
       "      <td>2.060498</td>\n",
       "      <td>2.140407</td>\n",
       "      <td>0.870557</td>\n",
       "      <td>0.797895</td>\n",
       "      <td>1.157158</td>\n",
       "      <td>1.766564</td>\n",
       "      <td>2.297028</td>\n",
       "      <td>1.461809</td>\n",
       "      <td>0.015801</td>\n",
       "      <td>0.019986</td>\n",
       "      <td>0.030494</td>\n",
       "      <td>9.751303</td>\n",
       "      <td>9.911460</td>\n",
       "      <td>2.935226</td>\n",
       "      <td>7.914397</td>\n",
       "    </tr>\n",
       "    <tr>\n",
       "      <th>min</th>\n",
       "      <td>1.000000</td>\n",
       "      <td>50.000000</td>\n",
       "      <td>20.000000</td>\n",
       "      <td>81.900000</td>\n",
       "      <td>35.800000</td>\n",
       "      <td>15.400000</td>\n",
       "      <td>5.500000</td>\n",
       "      <td>2.500000</td>\n",
       "      <td>10.800000</td>\n",
       "      <td>16.600000</td>\n",
       "      <td>24.900000</td>\n",
       "      <td>7.300000</td>\n",
       "      <td>0.401000</td>\n",
       "      <td>0.259000</td>\n",
       "      <td>0.663000</td>\n",
       "      <td>86.200000</td>\n",
       "      <td>-26.000000</td>\n",
       "      <td>2.000000</td>\n",
       "      <td>7.800000</td>\n",
       "    </tr>\n",
       "    <tr>\n",
       "      <th>25%</th>\n",
       "      <td>8.000000</td>\n",
       "      <td>82.000000</td>\n",
       "      <td>48.200000</td>\n",
       "      <td>95.300000</td>\n",
       "      <td>41.200000</td>\n",
       "      <td>20.600000</td>\n",
       "      <td>7.000000</td>\n",
       "      <td>4.300000</td>\n",
       "      <td>13.100000</td>\n",
       "      <td>20.000000</td>\n",
       "      <td>29.700000</td>\n",
       "      <td>10.200000</td>\n",
       "      <td>0.442000</td>\n",
       "      <td>0.342000</td>\n",
       "      <td>0.740000</td>\n",
       "      <td>105.700000</td>\n",
       "      <td>-6.700000</td>\n",
       "      <td>5.200000</td>\n",
       "      <td>14.700000</td>\n",
       "    </tr>\n",
       "    <tr>\n",
       "      <th>50%</th>\n",
       "      <td>15.000000</td>\n",
       "      <td>82.000000</td>\n",
       "      <td>48.300000</td>\n",
       "      <td>99.000000</td>\n",
       "      <td>42.500000</td>\n",
       "      <td>21.800000</td>\n",
       "      <td>7.600000</td>\n",
       "      <td>4.900000</td>\n",
       "      <td>13.800000</td>\n",
       "      <td>21.100000</td>\n",
       "      <td>31.100000</td>\n",
       "      <td>11.100000</td>\n",
       "      <td>0.452000</td>\n",
       "      <td>0.354000</td>\n",
       "      <td>0.759000</td>\n",
       "      <td>111.200000</td>\n",
       "      <td>0.500000</td>\n",
       "      <td>6.700000</td>\n",
       "      <td>18.700000</td>\n",
       "    </tr>\n",
       "    <tr>\n",
       "      <th>75%</th>\n",
       "      <td>22.000000</td>\n",
       "      <td>89.000000</td>\n",
       "      <td>48.400000</td>\n",
       "      <td>104.900000</td>\n",
       "      <td>43.900000</td>\n",
       "      <td>23.400000</td>\n",
       "      <td>8.200000</td>\n",
       "      <td>5.400000</td>\n",
       "      <td>14.600000</td>\n",
       "      <td>22.400000</td>\n",
       "      <td>33.000000</td>\n",
       "      <td>12.200000</td>\n",
       "      <td>0.463000</td>\n",
       "      <td>0.367000</td>\n",
       "      <td>0.778000</td>\n",
       "      <td>118.400000</td>\n",
       "      <td>6.600000</td>\n",
       "      <td>9.300000</td>\n",
       "      <td>25.900000</td>\n",
       "    </tr>\n",
       "    <tr>\n",
       "      <th>max</th>\n",
       "      <td>29.000000</td>\n",
       "      <td>108.000000</td>\n",
       "      <td>49.000000</td>\n",
       "      <td>117.800000</td>\n",
       "      <td>51.100000</td>\n",
       "      <td>30.000000</td>\n",
       "      <td>12.000000</td>\n",
       "      <td>8.100000</td>\n",
       "      <td>17.500000</td>\n",
       "      <td>27.100000</td>\n",
       "      <td>41.700000</td>\n",
       "      <td>16.400000</td>\n",
       "      <td>0.504000</td>\n",
       "      <td>0.410000</td>\n",
       "      <td>0.841000</td>\n",
       "      <td>144.200000</td>\n",
       "      <td>32.100000</td>\n",
       "      <td>16.900000</td>\n",
       "      <td>45.500000</td>\n",
       "    </tr>\n",
       "  </tbody>\n",
       "</table>\n",
       "</div>"
      ],
      "text/plain": [
       "               No           G         Min         Pts         Reb         Ast  \\\n",
       "count  725.000000  725.000000  725.000000  725.000000  725.000000  725.000000   \n",
       "mean    15.000000   84.660690   46.081517  100.309379   42.576828   22.051724   \n",
       "std      8.372376    9.937549    7.698169    7.049589    2.060498    2.140407   \n",
       "min      1.000000   50.000000   20.000000   81.900000   35.800000   15.400000   \n",
       "25%      8.000000   82.000000   48.200000   95.300000   41.200000   20.600000   \n",
       "50%     15.000000   82.000000   48.300000   99.000000   42.500000   21.800000   \n",
       "75%     22.000000   89.000000   48.400000  104.900000   43.900000   23.400000   \n",
       "max     29.000000  108.000000   49.000000  117.800000   51.100000   30.000000   \n",
       "\n",
       "              Stl         Blk          To          Pf        Dreb        Oreb  \\\n",
       "count  725.000000  725.000000  725.000000  725.000000  725.000000  725.000000   \n",
       "mean     7.641241    4.909517   13.836828   21.174345   31.391448   11.186897   \n",
       "std      0.870557    0.797895    1.157158    1.766564    2.297028    1.461809   \n",
       "min      5.500000    2.500000   10.800000   16.600000   24.900000    7.300000   \n",
       "25%      7.000000    4.300000   13.100000   20.000000   29.700000   10.200000   \n",
       "50%      7.600000    4.900000   13.800000   21.100000   31.100000   11.100000   \n",
       "75%      8.200000    5.400000   14.600000   22.400000   33.000000   12.200000   \n",
       "max     12.000000    8.100000   17.500000   27.100000   41.700000   16.400000   \n",
       "\n",
       "              Pct       Pct.1       Pct.2         Eff        Deff         3pm  \\\n",
       "count  725.000000  725.000000  725.000000  725.000000  725.000000  725.000000   \n",
       "mean     0.452305    0.353448    0.757706  112.577793   -0.051448    7.365379   \n",
       "std      0.015801    0.019986    0.030494    9.751303    9.911460    2.935226   \n",
       "min      0.401000    0.259000    0.663000   86.200000  -26.000000    2.000000   \n",
       "25%      0.442000    0.342000    0.740000  105.700000   -6.700000    5.200000   \n",
       "50%      0.452000    0.354000    0.759000  111.200000    0.500000    6.700000   \n",
       "75%      0.463000    0.367000    0.778000  118.400000    6.600000    9.300000   \n",
       "max      0.504000    0.410000    0.841000  144.200000   32.100000   16.900000   \n",
       "\n",
       "              3pa  \n",
       "count  725.000000  \n",
       "mean    20.710897  \n",
       "std      7.914397  \n",
       "min      7.800000  \n",
       "25%     14.700000  \n",
       "50%     18.700000  \n",
       "75%     25.900000  \n",
       "max     45.500000  "
      ]
     },
     "execution_count": 30,
     "metadata": {},
     "output_type": "execute_result"
    }
   ],
   "source": [
    "df.describe()"
   ]
  },
  {
   "cell_type": "code",
   "execution_count": 31,
   "metadata": {},
   "outputs": [
    {
     "data": {
      "text/plain": [
       "Index(['No', 'Team', 'G', 'Min', 'Pts', 'Reb', 'Ast', 'Stl', 'Blk', 'To', 'Pf',\n",
       "       'Dreb', 'Oreb', 'Fgm-a', 'Pct', '3gm-a', 'Pct.1', 'Ftm-a', 'Pct.2',\n",
       "       'Eff', 'Deff', 'Year', '3pm', '3pa'],\n",
       "      dtype='object')"
      ]
     },
     "execution_count": 31,
     "metadata": {},
     "output_type": "execute_result"
    }
   ],
   "source": [
    "df.columns"
   ]
  },
  {
   "cell_type": "code",
   "execution_count": 32,
   "metadata": {},
   "outputs": [],
   "source": [
    "average_eff= []\n",
    "for year in df['Year'].unique():\n",
    "    average_eff.append(df.Eff[df['Year']==year].mean())\n",
    "df_tendency = pd.DataFrame({'Year':df['Year'].unique(),'Average Eff':average_eff})  "
   ]
  },
  {
   "cell_type": "code",
   "execution_count": 33,
   "metadata": {},
   "outputs": [],
   "source": [
    "mean_3pa= []\n",
    "for year in df['Year'].unique():\n",
    "    mean_3pa.append(df['3pa'][df['Year']==year].mean())\n",
    "\n",
    "df_tendency['Average 3PA'] = mean_3pa\n",
    "\n",
    "mean_3pm= []\n",
    "for year in df['Year'].unique():\n",
    "    mean_3pm.append(df['3pm'][df['Year']==year].mean())\n",
    "\n",
    "df_tendency['Average 3PM'] = mean_3pm"
   ]
  },
  {
   "cell_type": "code",
   "execution_count": null,
   "metadata": {},
   "outputs": [],
   "source": []
  },
  {
   "cell_type": "code",
   "execution_count": 34,
   "metadata": {},
   "outputs": [],
   "source": [
    "_fgm = []\n",
    "_fga = []\n",
    "for x in df['Fgm-a']:\n",
    "    m,a = x.split('-')\n",
    "    _fgm.append(float(m))\n",
    "    _fga.append(float(a))\n",
    "\n",
    "df['fgm'] = _fgm\n",
    "df['fga'] = _fga"
   ]
  },
  {
   "cell_type": "code",
   "execution_count": 35,
   "metadata": {},
   "outputs": [],
   "source": [
    "df['2pm'] = df['fgm']-df['3pm']\n",
    "df['2pa'] = df['fga']-df['3pa']"
   ]
  },
  {
   "cell_type": "code",
   "execution_count": 36,
   "metadata": {},
   "outputs": [],
   "source": [
    "mean_2pa= []\n",
    "for year in df['Year'].unique():\n",
    "    mean_2pa.append(df['2pa'][df['Year']==year].mean())\n",
    "\n",
    "df_tendency['Average 2PA'] = mean_2pa\n",
    "\n",
    "mean_2pm= []\n",
    "for year in df['Year'].unique():\n",
    "    mean_2pm.append(df['2pm'][df['Year']==year].mean())\n",
    "\n",
    "df_tendency['Average 2PM'] = mean_2pm"
   ]
  },
  {
   "cell_type": "code",
   "execution_count": 37,
   "metadata": {},
   "outputs": [],
   "source": [
    "_ftm = []\n",
    "_fta = []\n",
    "for x in df['Ftm-a']:\n",
    "    m,a = x.split('-')\n",
    "    _ftm.append(float(m))\n",
    "    _fta.append(float(a))\n",
    "\n",
    "df['ftm'] = _ftm\n",
    "df['fta'] = _fta"
   ]
  },
  {
   "cell_type": "code",
   "execution_count": 38,
   "metadata": {},
   "outputs": [],
   "source": [
    "mean_fta= []\n",
    "for year in df['Year'].unique():\n",
    "    mean_fta.append(df['fta'][df['Year']==year].mean())\n",
    "\n",
    "df_tendency['Average FTA'] = mean_fta\n",
    "\n",
    "mean_ftm= []\n",
    "for year in df['Year'].unique():\n",
    "    mean_ftm.append(df['ftm'][df['Year']==year].mean())\n",
    "\n",
    "df_tendency['Average FTM'] = mean_ftm"
   ]
  },
  {
   "cell_type": "code",
   "execution_count": 39,
   "metadata": {},
   "outputs": [
    {
     "data": {
      "text/html": [
       "<div>\n",
       "<style scoped>\n",
       "    .dataframe tbody tr th:only-of-type {\n",
       "        vertical-align: middle;\n",
       "    }\n",
       "\n",
       "    .dataframe tbody tr th {\n",
       "        vertical-align: top;\n",
       "    }\n",
       "\n",
       "    .dataframe thead th {\n",
       "        text-align: right;\n",
       "    }\n",
       "</style>\n",
       "<table border=\"1\" class=\"dataframe\">\n",
       "  <thead>\n",
       "    <tr style=\"text-align: right;\">\n",
       "      <th></th>\n",
       "      <th>Year</th>\n",
       "      <th>Average Eff</th>\n",
       "      <th>Average 3PA</th>\n",
       "      <th>Average 3PM</th>\n",
       "      <th>Average 2PA</th>\n",
       "      <th>Average 2PM</th>\n",
       "      <th>Average FTA</th>\n",
       "      <th>Average FTM</th>\n",
       "    </tr>\n",
       "  </thead>\n",
       "  <tbody>\n",
       "    <tr>\n",
       "      <th>0</th>\n",
       "      <td>1997-1998</td>\n",
       "      <td>106.448276</td>\n",
       "      <td>12.772414</td>\n",
       "      <td>4.406897</td>\n",
       "      <td>66.724138</td>\n",
       "      <td>31.331034</td>\n",
       "      <td>26.279310</td>\n",
       "      <td>19.344828</td>\n",
       "    </tr>\n",
       "    <tr>\n",
       "      <th>1</th>\n",
       "      <td>1998-1999</td>\n",
       "      <td>100.896552</td>\n",
       "      <td>13.265517</td>\n",
       "      <td>4.458621</td>\n",
       "      <td>64.789655</td>\n",
       "      <td>29.531034</td>\n",
       "      <td>25.775862</td>\n",
       "      <td>18.789655</td>\n",
       "    </tr>\n",
       "    <tr>\n",
       "      <th>2</th>\n",
       "      <td>1999-2000</td>\n",
       "      <td>108.751724</td>\n",
       "      <td>13.765517</td>\n",
       "      <td>4.851724</td>\n",
       "      <td>68.113793</td>\n",
       "      <td>31.789655</td>\n",
       "      <td>25.337931</td>\n",
       "      <td>18.993103</td>\n",
       "    </tr>\n",
       "    <tr>\n",
       "      <th>3</th>\n",
       "      <td>2000-2001</td>\n",
       "      <td>106.193103</td>\n",
       "      <td>13.744828</td>\n",
       "      <td>4.855172</td>\n",
       "      <td>66.837931</td>\n",
       "      <td>30.713793</td>\n",
       "      <td>24.882759</td>\n",
       "      <td>18.613793</td>\n",
       "    </tr>\n",
       "    <tr>\n",
       "      <th>4</th>\n",
       "      <td>2001-2002</td>\n",
       "      <td>107.565517</td>\n",
       "      <td>14.779310</td>\n",
       "      <td>5.200000</td>\n",
       "      <td>66.393103</td>\n",
       "      <td>30.848276</td>\n",
       "      <td>23.920690</td>\n",
       "      <td>17.975862</td>\n",
       "    </tr>\n",
       "    <tr>\n",
       "      <th>5</th>\n",
       "      <td>2002-2003</td>\n",
       "      <td>106.317241</td>\n",
       "      <td>14.755172</td>\n",
       "      <td>5.172414</td>\n",
       "      <td>65.951724</td>\n",
       "      <td>30.451724</td>\n",
       "      <td>24.565517</td>\n",
       "      <td>18.624138</td>\n",
       "    </tr>\n",
       "    <tr>\n",
       "      <th>6</th>\n",
       "      <td>2003-2004</td>\n",
       "      <td>104.127586</td>\n",
       "      <td>14.982759</td>\n",
       "      <td>5.175862</td>\n",
       "      <td>64.686207</td>\n",
       "      <td>29.651724</td>\n",
       "      <td>24.237931</td>\n",
       "      <td>18.179310</td>\n",
       "    </tr>\n",
       "    <tr>\n",
       "      <th>7</th>\n",
       "      <td>2004-2005</td>\n",
       "      <td>108.141379</td>\n",
       "      <td>15.882759</td>\n",
       "      <td>5.655172</td>\n",
       "      <td>64.379310</td>\n",
       "      <td>30.251724</td>\n",
       "      <td>26.117241</td>\n",
       "      <td>19.789655</td>\n",
       "    </tr>\n",
       "    <tr>\n",
       "      <th>8</th>\n",
       "      <td>2005-2006</td>\n",
       "      <td>106.893103</td>\n",
       "      <td>16.079310</td>\n",
       "      <td>5.748276</td>\n",
       "      <td>62.862069</td>\n",
       "      <td>30.075862</td>\n",
       "      <td>26.510345</td>\n",
       "      <td>19.813793</td>\n",
       "    </tr>\n",
       "    <tr>\n",
       "      <th>9</th>\n",
       "      <td>2006-2007</td>\n",
       "      <td>108.186207</td>\n",
       "      <td>16.951724</td>\n",
       "      <td>6.058621</td>\n",
       "      <td>62.634483</td>\n",
       "      <td>30.303448</td>\n",
       "      <td>25.982759</td>\n",
       "      <td>19.527586</td>\n",
       "    </tr>\n",
       "    <tr>\n",
       "      <th>10</th>\n",
       "      <td>2007-2008</td>\n",
       "      <td>111.293103</td>\n",
       "      <td>17.917241</td>\n",
       "      <td>6.475862</td>\n",
       "      <td>63.393103</td>\n",
       "      <td>30.593103</td>\n",
       "      <td>24.975862</td>\n",
       "      <td>18.889655</td>\n",
       "    </tr>\n",
       "    <tr>\n",
       "      <th>11</th>\n",
       "      <td>2008-2009</td>\n",
       "      <td>111.027586</td>\n",
       "      <td>18.072414</td>\n",
       "      <td>6.606897</td>\n",
       "      <td>62.637931</td>\n",
       "      <td>30.386207</td>\n",
       "      <td>24.762069</td>\n",
       "      <td>19.037931</td>\n",
       "    </tr>\n",
       "    <tr>\n",
       "      <th>12</th>\n",
       "      <td>2009-2010</td>\n",
       "      <td>111.662069</td>\n",
       "      <td>18.275862</td>\n",
       "      <td>6.475862</td>\n",
       "      <td>63.148276</td>\n",
       "      <td>31.041379</td>\n",
       "      <td>24.700000</td>\n",
       "      <td>18.748276</td>\n",
       "    </tr>\n",
       "    <tr>\n",
       "      <th>13</th>\n",
       "      <td>2010-2011</td>\n",
       "      <td>110.948276</td>\n",
       "      <td>18.003448</td>\n",
       "      <td>6.444828</td>\n",
       "      <td>63.072414</td>\n",
       "      <td>30.679310</td>\n",
       "      <td>24.389655</td>\n",
       "      <td>18.641379</td>\n",
       "    </tr>\n",
       "    <tr>\n",
       "      <th>14</th>\n",
       "      <td>2011-2012</td>\n",
       "      <td>107.582759</td>\n",
       "      <td>18.537931</td>\n",
       "      <td>6.448276</td>\n",
       "      <td>62.800000</td>\n",
       "      <td>29.958621</td>\n",
       "      <td>22.510345</td>\n",
       "      <td>16.931034</td>\n",
       "    </tr>\n",
       "    <tr>\n",
       "      <th>15</th>\n",
       "      <td>2012-2013</td>\n",
       "      <td>110.706897</td>\n",
       "      <td>20.062069</td>\n",
       "      <td>7.172414</td>\n",
       "      <td>61.886207</td>\n",
       "      <td>29.900000</td>\n",
       "      <td>22.175862</td>\n",
       "      <td>16.668966</td>\n",
       "    </tr>\n",
       "    <tr>\n",
       "      <th>16</th>\n",
       "      <td>2013-2014</td>\n",
       "      <td>112.862069</td>\n",
       "      <td>21.534483</td>\n",
       "      <td>7.755172</td>\n",
       "      <td>61.213793</td>\n",
       "      <td>29.837931</td>\n",
       "      <td>23.682759</td>\n",
       "      <td>17.934483</td>\n",
       "    </tr>\n",
       "    <tr>\n",
       "      <th>17</th>\n",
       "      <td>2014-2015</td>\n",
       "      <td>112.596552</td>\n",
       "      <td>22.327586</td>\n",
       "      <td>7.813793</td>\n",
       "      <td>61.324138</td>\n",
       "      <td>29.734483</td>\n",
       "      <td>22.931034</td>\n",
       "      <td>17.217241</td>\n",
       "    </tr>\n",
       "    <tr>\n",
       "      <th>18</th>\n",
       "      <td>2015-2016</td>\n",
       "      <td>115.465517</td>\n",
       "      <td>24.034483</td>\n",
       "      <td>8.510345</td>\n",
       "      <td>60.441379</td>\n",
       "      <td>29.675862</td>\n",
       "      <td>23.320690</td>\n",
       "      <td>17.617241</td>\n",
       "    </tr>\n",
       "    <tr>\n",
       "      <th>19</th>\n",
       "      <td>2016-2017</td>\n",
       "      <td>119.148276</td>\n",
       "      <td>27.068966</td>\n",
       "      <td>9.672414</td>\n",
       "      <td>58.193103</td>\n",
       "      <td>29.300000</td>\n",
       "      <td>23.148276</td>\n",
       "      <td>17.872414</td>\n",
       "    </tr>\n",
       "    <tr>\n",
       "      <th>20</th>\n",
       "      <td>2017-2018</td>\n",
       "      <td>120.265517</td>\n",
       "      <td>29.006897</td>\n",
       "      <td>10.493103</td>\n",
       "      <td>56.941379</td>\n",
       "      <td>29.048276</td>\n",
       "      <td>21.627586</td>\n",
       "      <td>16.582759</td>\n",
       "    </tr>\n",
       "    <tr>\n",
       "      <th>21</th>\n",
       "      <td>2018-2019</td>\n",
       "      <td>126.317241</td>\n",
       "      <td>32.075862</td>\n",
       "      <td>11.358621</td>\n",
       "      <td>57.055172</td>\n",
       "      <td>29.593103</td>\n",
       "      <td>23.268966</td>\n",
       "      <td>17.806897</td>\n",
       "    </tr>\n",
       "    <tr>\n",
       "      <th>22</th>\n",
       "      <td>2019-2020</td>\n",
       "      <td>126.051724</td>\n",
       "      <td>34.289655</td>\n",
       "      <td>12.258621</td>\n",
       "      <td>54.334483</td>\n",
       "      <td>28.437931</td>\n",
       "      <td>23.210345</td>\n",
       "      <td>17.968966</td>\n",
       "    </tr>\n",
       "    <tr>\n",
       "      <th>23</th>\n",
       "      <td>2020-2021</td>\n",
       "      <td>128.182759</td>\n",
       "      <td>34.572414</td>\n",
       "      <td>12.672414</td>\n",
       "      <td>53.779310</td>\n",
       "      <td>28.486207</td>\n",
       "      <td>21.893103</td>\n",
       "      <td>17.058621</td>\n",
       "    </tr>\n",
       "    <tr>\n",
       "      <th>24</th>\n",
       "      <td>2021-2022</td>\n",
       "      <td>126.813793</td>\n",
       "      <td>35.013793</td>\n",
       "      <td>12.393103</td>\n",
       "      <td>53.093103</td>\n",
       "      <td>28.248276</td>\n",
       "      <td>21.806897</td>\n",
       "      <td>16.941379</td>\n",
       "    </tr>\n",
       "  </tbody>\n",
       "</table>\n",
       "</div>"
      ],
      "text/plain": [
       "         Year  Average Eff  Average 3PA  Average 3PM  Average 2PA  \\\n",
       "0   1997-1998   106.448276    12.772414     4.406897    66.724138   \n",
       "1   1998-1999   100.896552    13.265517     4.458621    64.789655   \n",
       "2   1999-2000   108.751724    13.765517     4.851724    68.113793   \n",
       "3   2000-2001   106.193103    13.744828     4.855172    66.837931   \n",
       "4   2001-2002   107.565517    14.779310     5.200000    66.393103   \n",
       "5   2002-2003   106.317241    14.755172     5.172414    65.951724   \n",
       "6   2003-2004   104.127586    14.982759     5.175862    64.686207   \n",
       "7   2004-2005   108.141379    15.882759     5.655172    64.379310   \n",
       "8   2005-2006   106.893103    16.079310     5.748276    62.862069   \n",
       "9   2006-2007   108.186207    16.951724     6.058621    62.634483   \n",
       "10  2007-2008   111.293103    17.917241     6.475862    63.393103   \n",
       "11  2008-2009   111.027586    18.072414     6.606897    62.637931   \n",
       "12  2009-2010   111.662069    18.275862     6.475862    63.148276   \n",
       "13  2010-2011   110.948276    18.003448     6.444828    63.072414   \n",
       "14  2011-2012   107.582759    18.537931     6.448276    62.800000   \n",
       "15  2012-2013   110.706897    20.062069     7.172414    61.886207   \n",
       "16  2013-2014   112.862069    21.534483     7.755172    61.213793   \n",
       "17  2014-2015   112.596552    22.327586     7.813793    61.324138   \n",
       "18  2015-2016   115.465517    24.034483     8.510345    60.441379   \n",
       "19  2016-2017   119.148276    27.068966     9.672414    58.193103   \n",
       "20  2017-2018   120.265517    29.006897    10.493103    56.941379   \n",
       "21  2018-2019   126.317241    32.075862    11.358621    57.055172   \n",
       "22  2019-2020   126.051724    34.289655    12.258621    54.334483   \n",
       "23  2020-2021   128.182759    34.572414    12.672414    53.779310   \n",
       "24  2021-2022   126.813793    35.013793    12.393103    53.093103   \n",
       "\n",
       "    Average 2PM  Average FTA  Average FTM  \n",
       "0     31.331034    26.279310    19.344828  \n",
       "1     29.531034    25.775862    18.789655  \n",
       "2     31.789655    25.337931    18.993103  \n",
       "3     30.713793    24.882759    18.613793  \n",
       "4     30.848276    23.920690    17.975862  \n",
       "5     30.451724    24.565517    18.624138  \n",
       "6     29.651724    24.237931    18.179310  \n",
       "7     30.251724    26.117241    19.789655  \n",
       "8     30.075862    26.510345    19.813793  \n",
       "9     30.303448    25.982759    19.527586  \n",
       "10    30.593103    24.975862    18.889655  \n",
       "11    30.386207    24.762069    19.037931  \n",
       "12    31.041379    24.700000    18.748276  \n",
       "13    30.679310    24.389655    18.641379  \n",
       "14    29.958621    22.510345    16.931034  \n",
       "15    29.900000    22.175862    16.668966  \n",
       "16    29.837931    23.682759    17.934483  \n",
       "17    29.734483    22.931034    17.217241  \n",
       "18    29.675862    23.320690    17.617241  \n",
       "19    29.300000    23.148276    17.872414  \n",
       "20    29.048276    21.627586    16.582759  \n",
       "21    29.593103    23.268966    17.806897  \n",
       "22    28.437931    23.210345    17.968966  \n",
       "23    28.486207    21.893103    17.058621  \n",
       "24    28.248276    21.806897    16.941379  "
      ]
     },
     "execution_count": 39,
     "metadata": {},
     "output_type": "execute_result"
    }
   ],
   "source": [
    "df_tendency"
   ]
  },
  {
   "cell_type": "code",
   "execution_count": 40,
   "metadata": {},
   "outputs": [],
   "source": [
    "df_tendency['3P%'] = df_tendency['Average 3PM']/df_tendency['Average 3PA']\n",
    "df_tendency['2P%'] = df_tendency['Average 2PM']/df_tendency['Average 2PA']\n",
    "df_tendency['FT%'] = df_tendency['Average FTM']/df_tendency['Average FTA']"
   ]
  },
  {
   "cell_type": "code",
   "execution_count": 41,
   "metadata": {},
   "outputs": [],
   "source": [
    "mean_pts= []\n",
    "for year in df['Year'].unique():\n",
    "    mean_pts.append(df['Pts'][df['Year']==year].mean())\n",
    "\n",
    "df_tendency['Average PTS'] = mean_pts"
   ]
  },
  {
   "cell_type": "code",
   "execution_count": 42,
   "metadata": {},
   "outputs": [],
   "source": [
    "mean_pts= []\n",
    "for year in df['Year'].unique():\n",
    "    mean_pts.append(df['Pts'][df['Year']==year].mean())\n",
    "\n",
    "df_tendency['Average PTS'] = mean_pts"
   ]
  },
  {
   "cell_type": "code",
   "execution_count": 43,
   "metadata": {},
   "outputs": [
    {
     "data": {
      "text/html": [
       "<div>\n",
       "<style scoped>\n",
       "    .dataframe tbody tr th:only-of-type {\n",
       "        vertical-align: middle;\n",
       "    }\n",
       "\n",
       "    .dataframe tbody tr th {\n",
       "        vertical-align: top;\n",
       "    }\n",
       "\n",
       "    .dataframe thead th {\n",
       "        text-align: right;\n",
       "    }\n",
       "</style>\n",
       "<table border=\"1\" class=\"dataframe\">\n",
       "  <thead>\n",
       "    <tr style=\"text-align: right;\">\n",
       "      <th></th>\n",
       "      <th>Year</th>\n",
       "      <th>Average Eff</th>\n",
       "      <th>Average 3PA</th>\n",
       "      <th>Average 3PM</th>\n",
       "      <th>Average 2PA</th>\n",
       "      <th>Average 2PM</th>\n",
       "      <th>Average FTA</th>\n",
       "      <th>Average FTM</th>\n",
       "      <th>3P%</th>\n",
       "      <th>2P%</th>\n",
       "      <th>FT%</th>\n",
       "      <th>Average PTS</th>\n",
       "    </tr>\n",
       "  </thead>\n",
       "  <tbody>\n",
       "    <tr>\n",
       "      <th>0</th>\n",
       "      <td>1997-1998</td>\n",
       "      <td>106.448276</td>\n",
       "      <td>12.772414</td>\n",
       "      <td>4.406897</td>\n",
       "      <td>66.724138</td>\n",
       "      <td>31.331034</td>\n",
       "      <td>26.279310</td>\n",
       "      <td>19.344828</td>\n",
       "      <td>0.345032</td>\n",
       "      <td>0.469561</td>\n",
       "      <td>0.736124</td>\n",
       "      <td>95.244828</td>\n",
       "    </tr>\n",
       "    <tr>\n",
       "      <th>1</th>\n",
       "      <td>1998-1999</td>\n",
       "      <td>100.896552</td>\n",
       "      <td>13.265517</td>\n",
       "      <td>4.458621</td>\n",
       "      <td>64.789655</td>\n",
       "      <td>29.531034</td>\n",
       "      <td>25.775862</td>\n",
       "      <td>18.789655</td>\n",
       "      <td>0.336106</td>\n",
       "      <td>0.455799</td>\n",
       "      <td>0.728963</td>\n",
       "      <td>91.241379</td>\n",
       "    </tr>\n",
       "    <tr>\n",
       "      <th>2</th>\n",
       "      <td>1999-2000</td>\n",
       "      <td>108.751724</td>\n",
       "      <td>13.765517</td>\n",
       "      <td>4.851724</td>\n",
       "      <td>68.113793</td>\n",
       "      <td>31.789655</td>\n",
       "      <td>25.337931</td>\n",
       "      <td>18.993103</td>\n",
       "      <td>0.352455</td>\n",
       "      <td>0.466714</td>\n",
       "      <td>0.749592</td>\n",
       "      <td>97.113793</td>\n",
       "    </tr>\n",
       "    <tr>\n",
       "      <th>3</th>\n",
       "      <td>2000-2001</td>\n",
       "      <td>106.193103</td>\n",
       "      <td>13.744828</td>\n",
       "      <td>4.855172</td>\n",
       "      <td>66.837931</td>\n",
       "      <td>30.713793</td>\n",
       "      <td>24.882759</td>\n",
       "      <td>18.613793</td>\n",
       "      <td>0.353236</td>\n",
       "      <td>0.459526</td>\n",
       "      <td>0.748060</td>\n",
       "      <td>94.631034</td>\n",
       "    </tr>\n",
       "    <tr>\n",
       "      <th>4</th>\n",
       "      <td>2001-2002</td>\n",
       "      <td>107.565517</td>\n",
       "      <td>14.779310</td>\n",
       "      <td>5.200000</td>\n",
       "      <td>66.393103</td>\n",
       "      <td>30.848276</td>\n",
       "      <td>23.920690</td>\n",
       "      <td>17.975862</td>\n",
       "      <td>0.351843</td>\n",
       "      <td>0.464631</td>\n",
       "      <td>0.751478</td>\n",
       "      <td>95.275862</td>\n",
       "    </tr>\n",
       "    <tr>\n",
       "      <th>5</th>\n",
       "      <td>2002-2003</td>\n",
       "      <td>106.317241</td>\n",
       "      <td>14.755172</td>\n",
       "      <td>5.172414</td>\n",
       "      <td>65.951724</td>\n",
       "      <td>30.451724</td>\n",
       "      <td>24.565517</td>\n",
       "      <td>18.624138</td>\n",
       "      <td>0.350549</td>\n",
       "      <td>0.461727</td>\n",
       "      <td>0.758141</td>\n",
       "      <td>95.031034</td>\n",
       "    </tr>\n",
       "    <tr>\n",
       "      <th>6</th>\n",
       "      <td>2003-2004</td>\n",
       "      <td>104.127586</td>\n",
       "      <td>14.982759</td>\n",
       "      <td>5.175862</td>\n",
       "      <td>64.686207</td>\n",
       "      <td>29.651724</td>\n",
       "      <td>24.237931</td>\n",
       "      <td>18.179310</td>\n",
       "      <td>0.345455</td>\n",
       "      <td>0.458393</td>\n",
       "      <td>0.750036</td>\n",
       "      <td>93.027586</td>\n",
       "    </tr>\n",
       "    <tr>\n",
       "      <th>7</th>\n",
       "      <td>2004-2005</td>\n",
       "      <td>108.141379</td>\n",
       "      <td>15.882759</td>\n",
       "      <td>5.655172</td>\n",
       "      <td>64.379310</td>\n",
       "      <td>30.251724</td>\n",
       "      <td>26.117241</td>\n",
       "      <td>19.789655</td>\n",
       "      <td>0.356057</td>\n",
       "      <td>0.469898</td>\n",
       "      <td>0.757724</td>\n",
       "      <td>97.268966</td>\n",
       "    </tr>\n",
       "    <tr>\n",
       "      <th>8</th>\n",
       "      <td>2005-2006</td>\n",
       "      <td>106.893103</td>\n",
       "      <td>16.079310</td>\n",
       "      <td>5.748276</td>\n",
       "      <td>62.862069</td>\n",
       "      <td>30.075862</td>\n",
       "      <td>26.510345</td>\n",
       "      <td>19.813793</td>\n",
       "      <td>0.357495</td>\n",
       "      <td>0.478442</td>\n",
       "      <td>0.747399</td>\n",
       "      <td>97.224138</td>\n",
       "    </tr>\n",
       "    <tr>\n",
       "      <th>9</th>\n",
       "      <td>2006-2007</td>\n",
       "      <td>108.186207</td>\n",
       "      <td>16.951724</td>\n",
       "      <td>6.058621</td>\n",
       "      <td>62.634483</td>\n",
       "      <td>30.303448</td>\n",
       "      <td>25.982759</td>\n",
       "      <td>19.527586</td>\n",
       "      <td>0.357404</td>\n",
       "      <td>0.483814</td>\n",
       "      <td>0.751559</td>\n",
       "      <td>98.300000</td>\n",
       "    </tr>\n",
       "    <tr>\n",
       "      <th>10</th>\n",
       "      <td>2007-2008</td>\n",
       "      <td>111.293103</td>\n",
       "      <td>17.917241</td>\n",
       "      <td>6.475862</td>\n",
       "      <td>63.393103</td>\n",
       "      <td>30.593103</td>\n",
       "      <td>24.975862</td>\n",
       "      <td>18.889655</td>\n",
       "      <td>0.361432</td>\n",
       "      <td>0.482594</td>\n",
       "      <td>0.756316</td>\n",
       "      <td>99.496552</td>\n",
       "    </tr>\n",
       "    <tr>\n",
       "      <th>11</th>\n",
       "      <td>2008-2009</td>\n",
       "      <td>111.027586</td>\n",
       "      <td>18.072414</td>\n",
       "      <td>6.606897</td>\n",
       "      <td>62.637931</td>\n",
       "      <td>30.386207</td>\n",
       "      <td>24.762069</td>\n",
       "      <td>19.037931</td>\n",
       "      <td>0.365579</td>\n",
       "      <td>0.485109</td>\n",
       "      <td>0.768834</td>\n",
       "      <td>99.651724</td>\n",
       "    </tr>\n",
       "    <tr>\n",
       "      <th>12</th>\n",
       "      <td>2009-2010</td>\n",
       "      <td>111.662069</td>\n",
       "      <td>18.275862</td>\n",
       "      <td>6.475862</td>\n",
       "      <td>63.148276</td>\n",
       "      <td>31.041379</td>\n",
       "      <td>24.700000</td>\n",
       "      <td>18.748276</td>\n",
       "      <td>0.354340</td>\n",
       "      <td>0.491563</td>\n",
       "      <td>0.759040</td>\n",
       "      <td>100.262069</td>\n",
       "    </tr>\n",
       "    <tr>\n",
       "      <th>13</th>\n",
       "      <td>2010-2011</td>\n",
       "      <td>110.948276</td>\n",
       "      <td>18.003448</td>\n",
       "      <td>6.444828</td>\n",
       "      <td>63.072414</td>\n",
       "      <td>30.679310</td>\n",
       "      <td>24.389655</td>\n",
       "      <td>18.641379</td>\n",
       "      <td>0.357977</td>\n",
       "      <td>0.486414</td>\n",
       "      <td>0.764315</td>\n",
       "      <td>99.313793</td>\n",
       "    </tr>\n",
       "    <tr>\n",
       "      <th>14</th>\n",
       "      <td>2011-2012</td>\n",
       "      <td>107.582759</td>\n",
       "      <td>18.537931</td>\n",
       "      <td>6.448276</td>\n",
       "      <td>62.800000</td>\n",
       "      <td>29.958621</td>\n",
       "      <td>22.510345</td>\n",
       "      <td>16.931034</td>\n",
       "      <td>0.347842</td>\n",
       "      <td>0.477048</td>\n",
       "      <td>0.752145</td>\n",
       "      <td>96.186207</td>\n",
       "    </tr>\n",
       "    <tr>\n",
       "      <th>15</th>\n",
       "      <td>2012-2013</td>\n",
       "      <td>110.706897</td>\n",
       "      <td>20.062069</td>\n",
       "      <td>7.172414</td>\n",
       "      <td>61.886207</td>\n",
       "      <td>29.900000</td>\n",
       "      <td>22.175862</td>\n",
       "      <td>16.668966</td>\n",
       "      <td>0.357511</td>\n",
       "      <td>0.483145</td>\n",
       "      <td>0.751672</td>\n",
       "      <td>98.006897</td>\n",
       "    </tr>\n",
       "    <tr>\n",
       "      <th>16</th>\n",
       "      <td>2013-2014</td>\n",
       "      <td>112.862069</td>\n",
       "      <td>21.534483</td>\n",
       "      <td>7.755172</td>\n",
       "      <td>61.213793</td>\n",
       "      <td>29.837931</td>\n",
       "      <td>23.682759</td>\n",
       "      <td>17.934483</td>\n",
       "      <td>0.360128</td>\n",
       "      <td>0.487438</td>\n",
       "      <td>0.757280</td>\n",
       "      <td>100.868966</td>\n",
       "    </tr>\n",
       "    <tr>\n",
       "      <th>17</th>\n",
       "      <td>2014-2015</td>\n",
       "      <td>112.596552</td>\n",
       "      <td>22.327586</td>\n",
       "      <td>7.813793</td>\n",
       "      <td>61.324138</td>\n",
       "      <td>29.734483</td>\n",
       "      <td>22.931034</td>\n",
       "      <td>17.217241</td>\n",
       "      <td>0.349961</td>\n",
       "      <td>0.484874</td>\n",
       "      <td>0.750827</td>\n",
       "      <td>100.148276</td>\n",
       "    </tr>\n",
       "    <tr>\n",
       "      <th>18</th>\n",
       "      <td>2015-2016</td>\n",
       "      <td>115.465517</td>\n",
       "      <td>24.034483</td>\n",
       "      <td>8.510345</td>\n",
       "      <td>60.441379</td>\n",
       "      <td>29.675862</td>\n",
       "      <td>23.320690</td>\n",
       "      <td>17.617241</td>\n",
       "      <td>0.354089</td>\n",
       "      <td>0.490986</td>\n",
       "      <td>0.755434</td>\n",
       "      <td>102.496552</td>\n",
       "    </tr>\n",
       "    <tr>\n",
       "      <th>19</th>\n",
       "      <td>2016-2017</td>\n",
       "      <td>119.148276</td>\n",
       "      <td>27.068966</td>\n",
       "      <td>9.672414</td>\n",
       "      <td>58.193103</td>\n",
       "      <td>29.300000</td>\n",
       "      <td>23.148276</td>\n",
       "      <td>17.872414</td>\n",
       "      <td>0.357325</td>\n",
       "      <td>0.503496</td>\n",
       "      <td>0.772084</td>\n",
       "      <td>105.503448</td>\n",
       "    </tr>\n",
       "    <tr>\n",
       "      <th>20</th>\n",
       "      <td>2017-2018</td>\n",
       "      <td>120.265517</td>\n",
       "      <td>29.006897</td>\n",
       "      <td>10.493103</td>\n",
       "      <td>56.941379</td>\n",
       "      <td>29.048276</td>\n",
       "      <td>21.627586</td>\n",
       "      <td>16.582759</td>\n",
       "      <td>0.361745</td>\n",
       "      <td>0.510144</td>\n",
       "      <td>0.766741</td>\n",
       "      <td>106.158621</td>\n",
       "    </tr>\n",
       "    <tr>\n",
       "      <th>21</th>\n",
       "      <td>2018-2019</td>\n",
       "      <td>126.317241</td>\n",
       "      <td>32.075862</td>\n",
       "      <td>11.358621</td>\n",
       "      <td>57.055172</td>\n",
       "      <td>29.593103</td>\n",
       "      <td>23.268966</td>\n",
       "      <td>17.806897</td>\n",
       "      <td>0.354117</td>\n",
       "      <td>0.518675</td>\n",
       "      <td>0.765264</td>\n",
       "      <td>111.055172</td>\n",
       "    </tr>\n",
       "    <tr>\n",
       "      <th>22</th>\n",
       "      <td>2019-2020</td>\n",
       "      <td>126.051724</td>\n",
       "      <td>34.289655</td>\n",
       "      <td>12.258621</td>\n",
       "      <td>54.334483</td>\n",
       "      <td>28.437931</td>\n",
       "      <td>23.210345</td>\n",
       "      <td>17.968966</td>\n",
       "      <td>0.357502</td>\n",
       "      <td>0.523386</td>\n",
       "      <td>0.774179</td>\n",
       "      <td>111.603448</td>\n",
       "    </tr>\n",
       "    <tr>\n",
       "      <th>23</th>\n",
       "      <td>2020-2021</td>\n",
       "      <td>128.182759</td>\n",
       "      <td>34.572414</td>\n",
       "      <td>12.672414</td>\n",
       "      <td>53.779310</td>\n",
       "      <td>28.486207</td>\n",
       "      <td>21.893103</td>\n",
       "      <td>17.058621</td>\n",
       "      <td>0.366547</td>\n",
       "      <td>0.529687</td>\n",
       "      <td>0.779178</td>\n",
       "      <td>112.024138</td>\n",
       "    </tr>\n",
       "    <tr>\n",
       "      <th>24</th>\n",
       "      <td>2021-2022</td>\n",
       "      <td>126.813793</td>\n",
       "      <td>35.013793</td>\n",
       "      <td>12.393103</td>\n",
       "      <td>53.093103</td>\n",
       "      <td>28.248276</td>\n",
       "      <td>21.806897</td>\n",
       "      <td>16.941379</td>\n",
       "      <td>0.353949</td>\n",
       "      <td>0.532052</td>\n",
       "      <td>0.776882</td>\n",
       "      <td>110.600000</td>\n",
       "    </tr>\n",
       "  </tbody>\n",
       "</table>\n",
       "</div>"
      ],
      "text/plain": [
       "         Year  Average Eff  Average 3PA  Average 3PM  Average 2PA  \\\n",
       "0   1997-1998   106.448276    12.772414     4.406897    66.724138   \n",
       "1   1998-1999   100.896552    13.265517     4.458621    64.789655   \n",
       "2   1999-2000   108.751724    13.765517     4.851724    68.113793   \n",
       "3   2000-2001   106.193103    13.744828     4.855172    66.837931   \n",
       "4   2001-2002   107.565517    14.779310     5.200000    66.393103   \n",
       "5   2002-2003   106.317241    14.755172     5.172414    65.951724   \n",
       "6   2003-2004   104.127586    14.982759     5.175862    64.686207   \n",
       "7   2004-2005   108.141379    15.882759     5.655172    64.379310   \n",
       "8   2005-2006   106.893103    16.079310     5.748276    62.862069   \n",
       "9   2006-2007   108.186207    16.951724     6.058621    62.634483   \n",
       "10  2007-2008   111.293103    17.917241     6.475862    63.393103   \n",
       "11  2008-2009   111.027586    18.072414     6.606897    62.637931   \n",
       "12  2009-2010   111.662069    18.275862     6.475862    63.148276   \n",
       "13  2010-2011   110.948276    18.003448     6.444828    63.072414   \n",
       "14  2011-2012   107.582759    18.537931     6.448276    62.800000   \n",
       "15  2012-2013   110.706897    20.062069     7.172414    61.886207   \n",
       "16  2013-2014   112.862069    21.534483     7.755172    61.213793   \n",
       "17  2014-2015   112.596552    22.327586     7.813793    61.324138   \n",
       "18  2015-2016   115.465517    24.034483     8.510345    60.441379   \n",
       "19  2016-2017   119.148276    27.068966     9.672414    58.193103   \n",
       "20  2017-2018   120.265517    29.006897    10.493103    56.941379   \n",
       "21  2018-2019   126.317241    32.075862    11.358621    57.055172   \n",
       "22  2019-2020   126.051724    34.289655    12.258621    54.334483   \n",
       "23  2020-2021   128.182759    34.572414    12.672414    53.779310   \n",
       "24  2021-2022   126.813793    35.013793    12.393103    53.093103   \n",
       "\n",
       "    Average 2PM  Average FTA  Average FTM       3P%       2P%       FT%  \\\n",
       "0     31.331034    26.279310    19.344828  0.345032  0.469561  0.736124   \n",
       "1     29.531034    25.775862    18.789655  0.336106  0.455799  0.728963   \n",
       "2     31.789655    25.337931    18.993103  0.352455  0.466714  0.749592   \n",
       "3     30.713793    24.882759    18.613793  0.353236  0.459526  0.748060   \n",
       "4     30.848276    23.920690    17.975862  0.351843  0.464631  0.751478   \n",
       "5     30.451724    24.565517    18.624138  0.350549  0.461727  0.758141   \n",
       "6     29.651724    24.237931    18.179310  0.345455  0.458393  0.750036   \n",
       "7     30.251724    26.117241    19.789655  0.356057  0.469898  0.757724   \n",
       "8     30.075862    26.510345    19.813793  0.357495  0.478442  0.747399   \n",
       "9     30.303448    25.982759    19.527586  0.357404  0.483814  0.751559   \n",
       "10    30.593103    24.975862    18.889655  0.361432  0.482594  0.756316   \n",
       "11    30.386207    24.762069    19.037931  0.365579  0.485109  0.768834   \n",
       "12    31.041379    24.700000    18.748276  0.354340  0.491563  0.759040   \n",
       "13    30.679310    24.389655    18.641379  0.357977  0.486414  0.764315   \n",
       "14    29.958621    22.510345    16.931034  0.347842  0.477048  0.752145   \n",
       "15    29.900000    22.175862    16.668966  0.357511  0.483145  0.751672   \n",
       "16    29.837931    23.682759    17.934483  0.360128  0.487438  0.757280   \n",
       "17    29.734483    22.931034    17.217241  0.349961  0.484874  0.750827   \n",
       "18    29.675862    23.320690    17.617241  0.354089  0.490986  0.755434   \n",
       "19    29.300000    23.148276    17.872414  0.357325  0.503496  0.772084   \n",
       "20    29.048276    21.627586    16.582759  0.361745  0.510144  0.766741   \n",
       "21    29.593103    23.268966    17.806897  0.354117  0.518675  0.765264   \n",
       "22    28.437931    23.210345    17.968966  0.357502  0.523386  0.774179   \n",
       "23    28.486207    21.893103    17.058621  0.366547  0.529687  0.779178   \n",
       "24    28.248276    21.806897    16.941379  0.353949  0.532052  0.776882   \n",
       "\n",
       "    Average PTS  \n",
       "0     95.244828  \n",
       "1     91.241379  \n",
       "2     97.113793  \n",
       "3     94.631034  \n",
       "4     95.275862  \n",
       "5     95.031034  \n",
       "6     93.027586  \n",
       "7     97.268966  \n",
       "8     97.224138  \n",
       "9     98.300000  \n",
       "10    99.496552  \n",
       "11    99.651724  \n",
       "12   100.262069  \n",
       "13    99.313793  \n",
       "14    96.186207  \n",
       "15    98.006897  \n",
       "16   100.868966  \n",
       "17   100.148276  \n",
       "18   102.496552  \n",
       "19   105.503448  \n",
       "20   106.158621  \n",
       "21   111.055172  \n",
       "22   111.603448  \n",
       "23   112.024138  \n",
       "24   110.600000  "
      ]
     },
     "execution_count": 43,
     "metadata": {},
     "output_type": "execute_result"
    }
   ],
   "source": [
    "df_tendency\n",
    "#para las graficas usa replace con split 3PM-A "
   ]
  },
  {
   "cell_type": "code",
   "execution_count": 44,
   "metadata": {},
   "outputs": [],
   "source": [
    "df_tendency.to_csv('tendecies_analysis.csv')"
   ]
  },
  {
   "cell_type": "code",
   "execution_count": 45,
   "metadata": {},
   "outputs": [
    {
     "data": {
      "text/html": [
       "<div>\n",
       "<style scoped>\n",
       "    .dataframe tbody tr th:only-of-type {\n",
       "        vertical-align: middle;\n",
       "    }\n",
       "\n",
       "    .dataframe tbody tr th {\n",
       "        vertical-align: top;\n",
       "    }\n",
       "\n",
       "    .dataframe thead th {\n",
       "        text-align: right;\n",
       "    }\n",
       "</style>\n",
       "<table border=\"1\" class=\"dataframe\">\n",
       "  <thead>\n",
       "    <tr style=\"text-align: right;\">\n",
       "      <th></th>\n",
       "      <th>Unnamed: 0</th>\n",
       "      <th>Year</th>\n",
       "      <th>Eff</th>\n",
       "      <th>3PA</th>\n",
       "      <th>3PM</th>\n",
       "      <th>2PA</th>\n",
       "      <th>2PM</th>\n",
       "      <th>FTA</th>\n",
       "      <th>FTM</th>\n",
       "      <th>3P%</th>\n",
       "      <th>2P%</th>\n",
       "      <th>FT%</th>\n",
       "      <th>PTS</th>\n",
       "    </tr>\n",
       "  </thead>\n",
       "  <tbody>\n",
       "    <tr>\n",
       "      <th>0</th>\n",
       "      <td>0</td>\n",
       "      <td>1997-1998</td>\n",
       "      <td>106.448276</td>\n",
       "      <td>12.772414</td>\n",
       "      <td>4.406897</td>\n",
       "      <td>66.724138</td>\n",
       "      <td>31.331034</td>\n",
       "      <td>26.279310</td>\n",
       "      <td>19.344828</td>\n",
       "      <td>0.345032</td>\n",
       "      <td>0.469561</td>\n",
       "      <td>0.736124</td>\n",
       "      <td>95.244828</td>\n",
       "    </tr>\n",
       "    <tr>\n",
       "      <th>1</th>\n",
       "      <td>1</td>\n",
       "      <td>1998-1999</td>\n",
       "      <td>100.896552</td>\n",
       "      <td>13.265517</td>\n",
       "      <td>4.458621</td>\n",
       "      <td>64.789655</td>\n",
       "      <td>29.531034</td>\n",
       "      <td>25.775862</td>\n",
       "      <td>18.789655</td>\n",
       "      <td>0.336106</td>\n",
       "      <td>0.455799</td>\n",
       "      <td>0.728963</td>\n",
       "      <td>91.241379</td>\n",
       "    </tr>\n",
       "    <tr>\n",
       "      <th>2</th>\n",
       "      <td>2</td>\n",
       "      <td>1999-2000</td>\n",
       "      <td>108.751724</td>\n",
       "      <td>13.765517</td>\n",
       "      <td>4.851724</td>\n",
       "      <td>68.113793</td>\n",
       "      <td>31.789655</td>\n",
       "      <td>25.337931</td>\n",
       "      <td>18.993103</td>\n",
       "      <td>0.352455</td>\n",
       "      <td>0.466714</td>\n",
       "      <td>0.749592</td>\n",
       "      <td>97.113793</td>\n",
       "    </tr>\n",
       "    <tr>\n",
       "      <th>3</th>\n",
       "      <td>3</td>\n",
       "      <td>2000-2001</td>\n",
       "      <td>106.193103</td>\n",
       "      <td>13.744828</td>\n",
       "      <td>4.855172</td>\n",
       "      <td>66.837931</td>\n",
       "      <td>30.713793</td>\n",
       "      <td>24.882759</td>\n",
       "      <td>18.613793</td>\n",
       "      <td>0.353236</td>\n",
       "      <td>0.459526</td>\n",
       "      <td>0.748060</td>\n",
       "      <td>94.631034</td>\n",
       "    </tr>\n",
       "    <tr>\n",
       "      <th>4</th>\n",
       "      <td>4</td>\n",
       "      <td>2001-2002</td>\n",
       "      <td>107.565517</td>\n",
       "      <td>14.779310</td>\n",
       "      <td>5.200000</td>\n",
       "      <td>66.393103</td>\n",
       "      <td>30.848276</td>\n",
       "      <td>23.920690</td>\n",
       "      <td>17.975862</td>\n",
       "      <td>0.351843</td>\n",
       "      <td>0.464631</td>\n",
       "      <td>0.751478</td>\n",
       "      <td>95.275862</td>\n",
       "    </tr>\n",
       "    <tr>\n",
       "      <th>5</th>\n",
       "      <td>5</td>\n",
       "      <td>2002-2003</td>\n",
       "      <td>106.317241</td>\n",
       "      <td>14.755172</td>\n",
       "      <td>5.172414</td>\n",
       "      <td>65.951724</td>\n",
       "      <td>30.451724</td>\n",
       "      <td>24.565517</td>\n",
       "      <td>18.624138</td>\n",
       "      <td>0.350549</td>\n",
       "      <td>0.461727</td>\n",
       "      <td>0.758141</td>\n",
       "      <td>95.031034</td>\n",
       "    </tr>\n",
       "    <tr>\n",
       "      <th>6</th>\n",
       "      <td>6</td>\n",
       "      <td>2003-2004</td>\n",
       "      <td>104.127586</td>\n",
       "      <td>14.982759</td>\n",
       "      <td>5.175862</td>\n",
       "      <td>64.686207</td>\n",
       "      <td>29.651724</td>\n",
       "      <td>24.237931</td>\n",
       "      <td>18.179310</td>\n",
       "      <td>0.345455</td>\n",
       "      <td>0.458393</td>\n",
       "      <td>0.750036</td>\n",
       "      <td>93.027586</td>\n",
       "    </tr>\n",
       "    <tr>\n",
       "      <th>7</th>\n",
       "      <td>7</td>\n",
       "      <td>2004-2005</td>\n",
       "      <td>108.141379</td>\n",
       "      <td>15.882759</td>\n",
       "      <td>5.655172</td>\n",
       "      <td>64.379310</td>\n",
       "      <td>30.251724</td>\n",
       "      <td>26.117241</td>\n",
       "      <td>19.789655</td>\n",
       "      <td>0.356057</td>\n",
       "      <td>0.469898</td>\n",
       "      <td>0.757724</td>\n",
       "      <td>97.268966</td>\n",
       "    </tr>\n",
       "    <tr>\n",
       "      <th>8</th>\n",
       "      <td>8</td>\n",
       "      <td>2005-2006</td>\n",
       "      <td>106.893103</td>\n",
       "      <td>16.079310</td>\n",
       "      <td>5.748276</td>\n",
       "      <td>62.862069</td>\n",
       "      <td>30.075862</td>\n",
       "      <td>26.510345</td>\n",
       "      <td>19.813793</td>\n",
       "      <td>0.357495</td>\n",
       "      <td>0.478442</td>\n",
       "      <td>0.747399</td>\n",
       "      <td>97.224138</td>\n",
       "    </tr>\n",
       "    <tr>\n",
       "      <th>9</th>\n",
       "      <td>9</td>\n",
       "      <td>2006-2007</td>\n",
       "      <td>108.186207</td>\n",
       "      <td>16.951724</td>\n",
       "      <td>6.058621</td>\n",
       "      <td>62.634483</td>\n",
       "      <td>30.303448</td>\n",
       "      <td>25.982759</td>\n",
       "      <td>19.527586</td>\n",
       "      <td>0.357404</td>\n",
       "      <td>0.483814</td>\n",
       "      <td>0.751559</td>\n",
       "      <td>98.300000</td>\n",
       "    </tr>\n",
       "    <tr>\n",
       "      <th>10</th>\n",
       "      <td>10</td>\n",
       "      <td>2007-2008</td>\n",
       "      <td>111.293103</td>\n",
       "      <td>17.917241</td>\n",
       "      <td>6.475862</td>\n",
       "      <td>63.393103</td>\n",
       "      <td>30.593103</td>\n",
       "      <td>24.975862</td>\n",
       "      <td>18.889655</td>\n",
       "      <td>0.361432</td>\n",
       "      <td>0.482594</td>\n",
       "      <td>0.756316</td>\n",
       "      <td>99.496552</td>\n",
       "    </tr>\n",
       "    <tr>\n",
       "      <th>11</th>\n",
       "      <td>11</td>\n",
       "      <td>2008-2009</td>\n",
       "      <td>111.027586</td>\n",
       "      <td>18.072414</td>\n",
       "      <td>6.606897</td>\n",
       "      <td>62.637931</td>\n",
       "      <td>30.386207</td>\n",
       "      <td>24.762069</td>\n",
       "      <td>19.037931</td>\n",
       "      <td>0.365579</td>\n",
       "      <td>0.485109</td>\n",
       "      <td>0.768834</td>\n",
       "      <td>99.651724</td>\n",
       "    </tr>\n",
       "    <tr>\n",
       "      <th>12</th>\n",
       "      <td>12</td>\n",
       "      <td>2009-2010</td>\n",
       "      <td>111.662069</td>\n",
       "      <td>18.275862</td>\n",
       "      <td>6.475862</td>\n",
       "      <td>63.148276</td>\n",
       "      <td>31.041379</td>\n",
       "      <td>24.700000</td>\n",
       "      <td>18.748276</td>\n",
       "      <td>0.354340</td>\n",
       "      <td>0.491563</td>\n",
       "      <td>0.759040</td>\n",
       "      <td>100.262069</td>\n",
       "    </tr>\n",
       "    <tr>\n",
       "      <th>13</th>\n",
       "      <td>13</td>\n",
       "      <td>2010-2011</td>\n",
       "      <td>110.948276</td>\n",
       "      <td>18.003448</td>\n",
       "      <td>6.444828</td>\n",
       "      <td>63.072414</td>\n",
       "      <td>30.679310</td>\n",
       "      <td>24.389655</td>\n",
       "      <td>18.641379</td>\n",
       "      <td>0.357977</td>\n",
       "      <td>0.486414</td>\n",
       "      <td>0.764315</td>\n",
       "      <td>99.313793</td>\n",
       "    </tr>\n",
       "    <tr>\n",
       "      <th>14</th>\n",
       "      <td>14</td>\n",
       "      <td>2011-2012</td>\n",
       "      <td>107.582759</td>\n",
       "      <td>18.537931</td>\n",
       "      <td>6.448276</td>\n",
       "      <td>62.800000</td>\n",
       "      <td>29.958621</td>\n",
       "      <td>22.510345</td>\n",
       "      <td>16.931034</td>\n",
       "      <td>0.347842</td>\n",
       "      <td>0.477048</td>\n",
       "      <td>0.752145</td>\n",
       "      <td>96.186207</td>\n",
       "    </tr>\n",
       "    <tr>\n",
       "      <th>15</th>\n",
       "      <td>15</td>\n",
       "      <td>2012-2013</td>\n",
       "      <td>110.706897</td>\n",
       "      <td>20.062069</td>\n",
       "      <td>7.172414</td>\n",
       "      <td>61.886207</td>\n",
       "      <td>29.900000</td>\n",
       "      <td>22.175862</td>\n",
       "      <td>16.668966</td>\n",
       "      <td>0.357511</td>\n",
       "      <td>0.483145</td>\n",
       "      <td>0.751672</td>\n",
       "      <td>98.006897</td>\n",
       "    </tr>\n",
       "    <tr>\n",
       "      <th>16</th>\n",
       "      <td>16</td>\n",
       "      <td>2013-2014</td>\n",
       "      <td>112.862069</td>\n",
       "      <td>21.534483</td>\n",
       "      <td>7.755172</td>\n",
       "      <td>61.213793</td>\n",
       "      <td>29.837931</td>\n",
       "      <td>23.682759</td>\n",
       "      <td>17.934483</td>\n",
       "      <td>0.360128</td>\n",
       "      <td>0.487438</td>\n",
       "      <td>0.757280</td>\n",
       "      <td>100.868966</td>\n",
       "    </tr>\n",
       "    <tr>\n",
       "      <th>17</th>\n",
       "      <td>17</td>\n",
       "      <td>2014-2015</td>\n",
       "      <td>112.596552</td>\n",
       "      <td>22.327586</td>\n",
       "      <td>7.813793</td>\n",
       "      <td>61.324138</td>\n",
       "      <td>29.734483</td>\n",
       "      <td>22.931034</td>\n",
       "      <td>17.217241</td>\n",
       "      <td>0.349961</td>\n",
       "      <td>0.484874</td>\n",
       "      <td>0.750827</td>\n",
       "      <td>100.148276</td>\n",
       "    </tr>\n",
       "    <tr>\n",
       "      <th>18</th>\n",
       "      <td>18</td>\n",
       "      <td>2015-2016</td>\n",
       "      <td>115.465517</td>\n",
       "      <td>24.034483</td>\n",
       "      <td>8.510345</td>\n",
       "      <td>60.441379</td>\n",
       "      <td>29.675862</td>\n",
       "      <td>23.320690</td>\n",
       "      <td>17.617241</td>\n",
       "      <td>0.354089</td>\n",
       "      <td>0.490986</td>\n",
       "      <td>0.755434</td>\n",
       "      <td>102.496552</td>\n",
       "    </tr>\n",
       "    <tr>\n",
       "      <th>19</th>\n",
       "      <td>19</td>\n",
       "      <td>2016-2017</td>\n",
       "      <td>119.148276</td>\n",
       "      <td>27.068966</td>\n",
       "      <td>9.672414</td>\n",
       "      <td>58.193103</td>\n",
       "      <td>29.300000</td>\n",
       "      <td>23.148276</td>\n",
       "      <td>17.872414</td>\n",
       "      <td>0.357325</td>\n",
       "      <td>0.503496</td>\n",
       "      <td>0.772084</td>\n",
       "      <td>105.503448</td>\n",
       "    </tr>\n",
       "    <tr>\n",
       "      <th>20</th>\n",
       "      <td>20</td>\n",
       "      <td>2017-2018</td>\n",
       "      <td>120.265517</td>\n",
       "      <td>29.006897</td>\n",
       "      <td>10.493103</td>\n",
       "      <td>56.941379</td>\n",
       "      <td>29.048276</td>\n",
       "      <td>21.627586</td>\n",
       "      <td>16.582759</td>\n",
       "      <td>0.361745</td>\n",
       "      <td>0.510144</td>\n",
       "      <td>0.766741</td>\n",
       "      <td>106.158621</td>\n",
       "    </tr>\n",
       "    <tr>\n",
       "      <th>21</th>\n",
       "      <td>21</td>\n",
       "      <td>2018-2019</td>\n",
       "      <td>126.317241</td>\n",
       "      <td>32.075862</td>\n",
       "      <td>11.358621</td>\n",
       "      <td>57.055172</td>\n",
       "      <td>29.593103</td>\n",
       "      <td>23.268966</td>\n",
       "      <td>17.806897</td>\n",
       "      <td>0.354117</td>\n",
       "      <td>0.518675</td>\n",
       "      <td>0.765264</td>\n",
       "      <td>111.055172</td>\n",
       "    </tr>\n",
       "    <tr>\n",
       "      <th>22</th>\n",
       "      <td>22</td>\n",
       "      <td>2019-2020</td>\n",
       "      <td>126.051724</td>\n",
       "      <td>34.289655</td>\n",
       "      <td>12.258621</td>\n",
       "      <td>54.334483</td>\n",
       "      <td>28.437931</td>\n",
       "      <td>23.210345</td>\n",
       "      <td>17.968966</td>\n",
       "      <td>0.357502</td>\n",
       "      <td>0.523386</td>\n",
       "      <td>0.774179</td>\n",
       "      <td>111.603448</td>\n",
       "    </tr>\n",
       "    <tr>\n",
       "      <th>23</th>\n",
       "      <td>23</td>\n",
       "      <td>2020-2021</td>\n",
       "      <td>128.182759</td>\n",
       "      <td>34.572414</td>\n",
       "      <td>12.672414</td>\n",
       "      <td>53.779310</td>\n",
       "      <td>28.486207</td>\n",
       "      <td>21.893103</td>\n",
       "      <td>17.058621</td>\n",
       "      <td>0.366547</td>\n",
       "      <td>0.529687</td>\n",
       "      <td>0.779178</td>\n",
       "      <td>112.024138</td>\n",
       "    </tr>\n",
       "    <tr>\n",
       "      <th>24</th>\n",
       "      <td>24</td>\n",
       "      <td>2021-2022</td>\n",
       "      <td>126.813793</td>\n",
       "      <td>35.013793</td>\n",
       "      <td>12.393103</td>\n",
       "      <td>53.093103</td>\n",
       "      <td>28.248276</td>\n",
       "      <td>21.806897</td>\n",
       "      <td>16.941379</td>\n",
       "      <td>0.353949</td>\n",
       "      <td>0.532052</td>\n",
       "      <td>0.776882</td>\n",
       "      <td>110.600000</td>\n",
       "    </tr>\n",
       "  </tbody>\n",
       "</table>\n",
       "</div>"
      ],
      "text/plain": [
       "    Unnamed: 0       Year         Eff        3PA        3PM        2PA  \\\n",
       "0            0  1997-1998  106.448276  12.772414   4.406897  66.724138   \n",
       "1            1  1998-1999  100.896552  13.265517   4.458621  64.789655   \n",
       "2            2  1999-2000  108.751724  13.765517   4.851724  68.113793   \n",
       "3            3  2000-2001  106.193103  13.744828   4.855172  66.837931   \n",
       "4            4  2001-2002  107.565517  14.779310   5.200000  66.393103   \n",
       "5            5  2002-2003  106.317241  14.755172   5.172414  65.951724   \n",
       "6            6  2003-2004  104.127586  14.982759   5.175862  64.686207   \n",
       "7            7  2004-2005  108.141379  15.882759   5.655172  64.379310   \n",
       "8            8  2005-2006  106.893103  16.079310   5.748276  62.862069   \n",
       "9            9  2006-2007  108.186207  16.951724   6.058621  62.634483   \n",
       "10          10  2007-2008  111.293103  17.917241   6.475862  63.393103   \n",
       "11          11  2008-2009  111.027586  18.072414   6.606897  62.637931   \n",
       "12          12  2009-2010  111.662069  18.275862   6.475862  63.148276   \n",
       "13          13  2010-2011  110.948276  18.003448   6.444828  63.072414   \n",
       "14          14  2011-2012  107.582759  18.537931   6.448276  62.800000   \n",
       "15          15  2012-2013  110.706897  20.062069   7.172414  61.886207   \n",
       "16          16  2013-2014  112.862069  21.534483   7.755172  61.213793   \n",
       "17          17  2014-2015  112.596552  22.327586   7.813793  61.324138   \n",
       "18          18  2015-2016  115.465517  24.034483   8.510345  60.441379   \n",
       "19          19  2016-2017  119.148276  27.068966   9.672414  58.193103   \n",
       "20          20  2017-2018  120.265517  29.006897  10.493103  56.941379   \n",
       "21          21  2018-2019  126.317241  32.075862  11.358621  57.055172   \n",
       "22          22  2019-2020  126.051724  34.289655  12.258621  54.334483   \n",
       "23          23  2020-2021  128.182759  34.572414  12.672414  53.779310   \n",
       "24          24  2021-2022  126.813793  35.013793  12.393103  53.093103   \n",
       "\n",
       "          2PM        FTA        FTM       3P%       2P%       FT%         PTS  \n",
       "0   31.331034  26.279310  19.344828  0.345032  0.469561  0.736124   95.244828  \n",
       "1   29.531034  25.775862  18.789655  0.336106  0.455799  0.728963   91.241379  \n",
       "2   31.789655  25.337931  18.993103  0.352455  0.466714  0.749592   97.113793  \n",
       "3   30.713793  24.882759  18.613793  0.353236  0.459526  0.748060   94.631034  \n",
       "4   30.848276  23.920690  17.975862  0.351843  0.464631  0.751478   95.275862  \n",
       "5   30.451724  24.565517  18.624138  0.350549  0.461727  0.758141   95.031034  \n",
       "6   29.651724  24.237931  18.179310  0.345455  0.458393  0.750036   93.027586  \n",
       "7   30.251724  26.117241  19.789655  0.356057  0.469898  0.757724   97.268966  \n",
       "8   30.075862  26.510345  19.813793  0.357495  0.478442  0.747399   97.224138  \n",
       "9   30.303448  25.982759  19.527586  0.357404  0.483814  0.751559   98.300000  \n",
       "10  30.593103  24.975862  18.889655  0.361432  0.482594  0.756316   99.496552  \n",
       "11  30.386207  24.762069  19.037931  0.365579  0.485109  0.768834   99.651724  \n",
       "12  31.041379  24.700000  18.748276  0.354340  0.491563  0.759040  100.262069  \n",
       "13  30.679310  24.389655  18.641379  0.357977  0.486414  0.764315   99.313793  \n",
       "14  29.958621  22.510345  16.931034  0.347842  0.477048  0.752145   96.186207  \n",
       "15  29.900000  22.175862  16.668966  0.357511  0.483145  0.751672   98.006897  \n",
       "16  29.837931  23.682759  17.934483  0.360128  0.487438  0.757280  100.868966  \n",
       "17  29.734483  22.931034  17.217241  0.349961  0.484874  0.750827  100.148276  \n",
       "18  29.675862  23.320690  17.617241  0.354089  0.490986  0.755434  102.496552  \n",
       "19  29.300000  23.148276  17.872414  0.357325  0.503496  0.772084  105.503448  \n",
       "20  29.048276  21.627586  16.582759  0.361745  0.510144  0.766741  106.158621  \n",
       "21  29.593103  23.268966  17.806897  0.354117  0.518675  0.765264  111.055172  \n",
       "22  28.437931  23.210345  17.968966  0.357502  0.523386  0.774179  111.603448  \n",
       "23  28.486207  21.893103  17.058621  0.366547  0.529687  0.779178  112.024138  \n",
       "24  28.248276  21.806897  16.941379  0.353949  0.532052  0.776882  110.600000  "
      ]
     },
     "execution_count": 45,
     "metadata": {},
     "output_type": "execute_result"
    }
   ],
   "source": [
    "df1 = pd.read_csv('../tendencies_analysis.csv')\n",
    "df1"
   ]
  },
  {
   "cell_type": "code",
   "execution_count": 53,
   "metadata": {},
   "outputs": [
    {
     "data": {
      "application/vnd.plotly.v1+json": {
       "config": {
        "plotlyServerURL": "https://plot.ly"
       },
       "data": [
        {
         "name": "League",
         "type": "scatter",
         "x": [
          "1997-1998",
          "1998-1999",
          "1999-2000",
          "2000-2001",
          "2001-2002",
          "2002-2003",
          "2003-2004",
          "2004-2005",
          "2005-2006",
          "2006-2007",
          "2007-2008",
          "2008-2009",
          "2009-2010",
          "2010-2011",
          "2011-2012",
          "2012-2013",
          "2013-2014",
          "2014-2015",
          "2015-2016",
          "2016-2017",
          "2017-2018",
          "2018-2019",
          "2019-2020",
          "2020-2021",
          "2021-2022"
         ],
         "y": [
          106.44827586206895,
          100.8965517241379,
          108.75172413793102,
          106.19310344827583,
          107.56551724137928,
          106.31724137931032,
          104.12758620689657,
          108.14137931034485,
          106.89310344827584,
          108.18620689655172,
          111.29310344827584,
          111.02758620689656,
          111.66206896551724,
          110.94827586206898,
          107.58275862068965,
          110.70689655172414,
          112.86206896551724,
          112.59655172413792,
          115.46551724137932,
          119.14827586206896,
          120.26551724137931,
          126.31724137931036,
          126.05172413793106,
          128.18275862068967,
          126.81379310344828
         ]
        }
       ],
       "layout": {
        "template": {
         "data": {
          "bar": [
           {
            "error_x": {
             "color": "#2a3f5f"
            },
            "error_y": {
             "color": "#2a3f5f"
            },
            "marker": {
             "line": {
              "color": "#E5ECF6",
              "width": 0.5
             },
             "pattern": {
              "fillmode": "overlay",
              "size": 10,
              "solidity": 0.2
             }
            },
            "type": "bar"
           }
          ],
          "barpolar": [
           {
            "marker": {
             "line": {
              "color": "#E5ECF6",
              "width": 0.5
             },
             "pattern": {
              "fillmode": "overlay",
              "size": 10,
              "solidity": 0.2
             }
            },
            "type": "barpolar"
           }
          ],
          "carpet": [
           {
            "aaxis": {
             "endlinecolor": "#2a3f5f",
             "gridcolor": "white",
             "linecolor": "white",
             "minorgridcolor": "white",
             "startlinecolor": "#2a3f5f"
            },
            "baxis": {
             "endlinecolor": "#2a3f5f",
             "gridcolor": "white",
             "linecolor": "white",
             "minorgridcolor": "white",
             "startlinecolor": "#2a3f5f"
            },
            "type": "carpet"
           }
          ],
          "choropleth": [
           {
            "colorbar": {
             "outlinewidth": 0,
             "ticks": ""
            },
            "type": "choropleth"
           }
          ],
          "contour": [
           {
            "colorbar": {
             "outlinewidth": 0,
             "ticks": ""
            },
            "colorscale": [
             [
              0,
              "#0d0887"
             ],
             [
              0.1111111111111111,
              "#46039f"
             ],
             [
              0.2222222222222222,
              "#7201a8"
             ],
             [
              0.3333333333333333,
              "#9c179e"
             ],
             [
              0.4444444444444444,
              "#bd3786"
             ],
             [
              0.5555555555555556,
              "#d8576b"
             ],
             [
              0.6666666666666666,
              "#ed7953"
             ],
             [
              0.7777777777777778,
              "#fb9f3a"
             ],
             [
              0.8888888888888888,
              "#fdca26"
             ],
             [
              1,
              "#f0f921"
             ]
            ],
            "type": "contour"
           }
          ],
          "contourcarpet": [
           {
            "colorbar": {
             "outlinewidth": 0,
             "ticks": ""
            },
            "type": "contourcarpet"
           }
          ],
          "heatmap": [
           {
            "colorbar": {
             "outlinewidth": 0,
             "ticks": ""
            },
            "colorscale": [
             [
              0,
              "#0d0887"
             ],
             [
              0.1111111111111111,
              "#46039f"
             ],
             [
              0.2222222222222222,
              "#7201a8"
             ],
             [
              0.3333333333333333,
              "#9c179e"
             ],
             [
              0.4444444444444444,
              "#bd3786"
             ],
             [
              0.5555555555555556,
              "#d8576b"
             ],
             [
              0.6666666666666666,
              "#ed7953"
             ],
             [
              0.7777777777777778,
              "#fb9f3a"
             ],
             [
              0.8888888888888888,
              "#fdca26"
             ],
             [
              1,
              "#f0f921"
             ]
            ],
            "type": "heatmap"
           }
          ],
          "heatmapgl": [
           {
            "colorbar": {
             "outlinewidth": 0,
             "ticks": ""
            },
            "colorscale": [
             [
              0,
              "#0d0887"
             ],
             [
              0.1111111111111111,
              "#46039f"
             ],
             [
              0.2222222222222222,
              "#7201a8"
             ],
             [
              0.3333333333333333,
              "#9c179e"
             ],
             [
              0.4444444444444444,
              "#bd3786"
             ],
             [
              0.5555555555555556,
              "#d8576b"
             ],
             [
              0.6666666666666666,
              "#ed7953"
             ],
             [
              0.7777777777777778,
              "#fb9f3a"
             ],
             [
              0.8888888888888888,
              "#fdca26"
             ],
             [
              1,
              "#f0f921"
             ]
            ],
            "type": "heatmapgl"
           }
          ],
          "histogram": [
           {
            "marker": {
             "pattern": {
              "fillmode": "overlay",
              "size": 10,
              "solidity": 0.2
             }
            },
            "type": "histogram"
           }
          ],
          "histogram2d": [
           {
            "colorbar": {
             "outlinewidth": 0,
             "ticks": ""
            },
            "colorscale": [
             [
              0,
              "#0d0887"
             ],
             [
              0.1111111111111111,
              "#46039f"
             ],
             [
              0.2222222222222222,
              "#7201a8"
             ],
             [
              0.3333333333333333,
              "#9c179e"
             ],
             [
              0.4444444444444444,
              "#bd3786"
             ],
             [
              0.5555555555555556,
              "#d8576b"
             ],
             [
              0.6666666666666666,
              "#ed7953"
             ],
             [
              0.7777777777777778,
              "#fb9f3a"
             ],
             [
              0.8888888888888888,
              "#fdca26"
             ],
             [
              1,
              "#f0f921"
             ]
            ],
            "type": "histogram2d"
           }
          ],
          "histogram2dcontour": [
           {
            "colorbar": {
             "outlinewidth": 0,
             "ticks": ""
            },
            "colorscale": [
             [
              0,
              "#0d0887"
             ],
             [
              0.1111111111111111,
              "#46039f"
             ],
             [
              0.2222222222222222,
              "#7201a8"
             ],
             [
              0.3333333333333333,
              "#9c179e"
             ],
             [
              0.4444444444444444,
              "#bd3786"
             ],
             [
              0.5555555555555556,
              "#d8576b"
             ],
             [
              0.6666666666666666,
              "#ed7953"
             ],
             [
              0.7777777777777778,
              "#fb9f3a"
             ],
             [
              0.8888888888888888,
              "#fdca26"
             ],
             [
              1,
              "#f0f921"
             ]
            ],
            "type": "histogram2dcontour"
           }
          ],
          "mesh3d": [
           {
            "colorbar": {
             "outlinewidth": 0,
             "ticks": ""
            },
            "type": "mesh3d"
           }
          ],
          "parcoords": [
           {
            "line": {
             "colorbar": {
              "outlinewidth": 0,
              "ticks": ""
             }
            },
            "type": "parcoords"
           }
          ],
          "pie": [
           {
            "automargin": true,
            "type": "pie"
           }
          ],
          "scatter": [
           {
            "fillpattern": {
             "fillmode": "overlay",
             "size": 10,
             "solidity": 0.2
            },
            "type": "scatter"
           }
          ],
          "scatter3d": [
           {
            "line": {
             "colorbar": {
              "outlinewidth": 0,
              "ticks": ""
             }
            },
            "marker": {
             "colorbar": {
              "outlinewidth": 0,
              "ticks": ""
             }
            },
            "type": "scatter3d"
           }
          ],
          "scattercarpet": [
           {
            "marker": {
             "colorbar": {
              "outlinewidth": 0,
              "ticks": ""
             }
            },
            "type": "scattercarpet"
           }
          ],
          "scattergeo": [
           {
            "marker": {
             "colorbar": {
              "outlinewidth": 0,
              "ticks": ""
             }
            },
            "type": "scattergeo"
           }
          ],
          "scattergl": [
           {
            "marker": {
             "colorbar": {
              "outlinewidth": 0,
              "ticks": ""
             }
            },
            "type": "scattergl"
           }
          ],
          "scattermapbox": [
           {
            "marker": {
             "colorbar": {
              "outlinewidth": 0,
              "ticks": ""
             }
            },
            "type": "scattermapbox"
           }
          ],
          "scatterpolar": [
           {
            "marker": {
             "colorbar": {
              "outlinewidth": 0,
              "ticks": ""
             }
            },
            "type": "scatterpolar"
           }
          ],
          "scatterpolargl": [
           {
            "marker": {
             "colorbar": {
              "outlinewidth": 0,
              "ticks": ""
             }
            },
            "type": "scatterpolargl"
           }
          ],
          "scatterternary": [
           {
            "marker": {
             "colorbar": {
              "outlinewidth": 0,
              "ticks": ""
             }
            },
            "type": "scatterternary"
           }
          ],
          "surface": [
           {
            "colorbar": {
             "outlinewidth": 0,
             "ticks": ""
            },
            "colorscale": [
             [
              0,
              "#0d0887"
             ],
             [
              0.1111111111111111,
              "#46039f"
             ],
             [
              0.2222222222222222,
              "#7201a8"
             ],
             [
              0.3333333333333333,
              "#9c179e"
             ],
             [
              0.4444444444444444,
              "#bd3786"
             ],
             [
              0.5555555555555556,
              "#d8576b"
             ],
             [
              0.6666666666666666,
              "#ed7953"
             ],
             [
              0.7777777777777778,
              "#fb9f3a"
             ],
             [
              0.8888888888888888,
              "#fdca26"
             ],
             [
              1,
              "#f0f921"
             ]
            ],
            "type": "surface"
           }
          ],
          "table": [
           {
            "cells": {
             "fill": {
              "color": "#EBF0F8"
             },
             "line": {
              "color": "white"
             }
            },
            "header": {
             "fill": {
              "color": "#C8D4E3"
             },
             "line": {
              "color": "white"
             }
            },
            "type": "table"
           }
          ]
         },
         "layout": {
          "annotationdefaults": {
           "arrowcolor": "#2a3f5f",
           "arrowhead": 0,
           "arrowwidth": 1
          },
          "autotypenumbers": "strict",
          "coloraxis": {
           "colorbar": {
            "outlinewidth": 0,
            "ticks": ""
           }
          },
          "colorscale": {
           "diverging": [
            [
             0,
             "#8e0152"
            ],
            [
             0.1,
             "#c51b7d"
            ],
            [
             0.2,
             "#de77ae"
            ],
            [
             0.3,
             "#f1b6da"
            ],
            [
             0.4,
             "#fde0ef"
            ],
            [
             0.5,
             "#f7f7f7"
            ],
            [
             0.6,
             "#e6f5d0"
            ],
            [
             0.7,
             "#b8e186"
            ],
            [
             0.8,
             "#7fbc41"
            ],
            [
             0.9,
             "#4d9221"
            ],
            [
             1,
             "#276419"
            ]
           ],
           "sequential": [
            [
             0,
             "#0d0887"
            ],
            [
             0.1111111111111111,
             "#46039f"
            ],
            [
             0.2222222222222222,
             "#7201a8"
            ],
            [
             0.3333333333333333,
             "#9c179e"
            ],
            [
             0.4444444444444444,
             "#bd3786"
            ],
            [
             0.5555555555555556,
             "#d8576b"
            ],
            [
             0.6666666666666666,
             "#ed7953"
            ],
            [
             0.7777777777777778,
             "#fb9f3a"
            ],
            [
             0.8888888888888888,
             "#fdca26"
            ],
            [
             1,
             "#f0f921"
            ]
           ],
           "sequentialminus": [
            [
             0,
             "#0d0887"
            ],
            [
             0.1111111111111111,
             "#46039f"
            ],
            [
             0.2222222222222222,
             "#7201a8"
            ],
            [
             0.3333333333333333,
             "#9c179e"
            ],
            [
             0.4444444444444444,
             "#bd3786"
            ],
            [
             0.5555555555555556,
             "#d8576b"
            ],
            [
             0.6666666666666666,
             "#ed7953"
            ],
            [
             0.7777777777777778,
             "#fb9f3a"
            ],
            [
             0.8888888888888888,
             "#fdca26"
            ],
            [
             1,
             "#f0f921"
            ]
           ]
          },
          "colorway": [
           "#636efa",
           "#EF553B",
           "#00cc96",
           "#ab63fa",
           "#FFA15A",
           "#19d3f3",
           "#FF6692",
           "#B6E880",
           "#FF97FF",
           "#FECB52"
          ],
          "font": {
           "color": "#2a3f5f"
          },
          "geo": {
           "bgcolor": "white",
           "lakecolor": "white",
           "landcolor": "#E5ECF6",
           "showlakes": true,
           "showland": true,
           "subunitcolor": "white"
          },
          "hoverlabel": {
           "align": "left"
          },
          "hovermode": "closest",
          "mapbox": {
           "style": "light"
          },
          "paper_bgcolor": "white",
          "plot_bgcolor": "#E5ECF6",
          "polar": {
           "angularaxis": {
            "gridcolor": "white",
            "linecolor": "white",
            "ticks": ""
           },
           "bgcolor": "#E5ECF6",
           "radialaxis": {
            "gridcolor": "white",
            "linecolor": "white",
            "ticks": ""
           }
          },
          "scene": {
           "xaxis": {
            "backgroundcolor": "#E5ECF6",
            "gridcolor": "white",
            "gridwidth": 2,
            "linecolor": "white",
            "showbackground": true,
            "ticks": "",
            "zerolinecolor": "white"
           },
           "yaxis": {
            "backgroundcolor": "#E5ECF6",
            "gridcolor": "white",
            "gridwidth": 2,
            "linecolor": "white",
            "showbackground": true,
            "ticks": "",
            "zerolinecolor": "white"
           },
           "zaxis": {
            "backgroundcolor": "#E5ECF6",
            "gridcolor": "white",
            "gridwidth": 2,
            "linecolor": "white",
            "showbackground": true,
            "ticks": "",
            "zerolinecolor": "white"
           }
          },
          "shapedefaults": {
           "line": {
            "color": "#2a3f5f"
           }
          },
          "ternary": {
           "aaxis": {
            "gridcolor": "white",
            "linecolor": "white",
            "ticks": ""
           },
           "baxis": {
            "gridcolor": "white",
            "linecolor": "white",
            "ticks": ""
           },
           "bgcolor": "#E5ECF6",
           "caxis": {
            "gridcolor": "white",
            "linecolor": "white",
            "ticks": ""
           }
          },
          "title": {
           "x": 0.05
          },
          "xaxis": {
           "automargin": true,
           "gridcolor": "white",
           "linecolor": "white",
           "ticks": "",
           "title": {
            "standoff": 15
           },
           "zerolinecolor": "white",
           "zerolinewidth": 2
          },
          "yaxis": {
           "automargin": true,
           "gridcolor": "white",
           "linecolor": "white",
           "ticks": "",
           "title": {
            "standoff": 15
           },
           "zerolinecolor": "white",
           "zerolinewidth": 2
          }
         }
        },
        "xaxis": {
         "title": {
          "text": "Year"
         }
        },
        "yaxis": {
         "title": {
          "text": "Average Eff"
         }
        }
       }
      }
     },
     "metadata": {},
     "output_type": "display_data"
    }
   ],
   "source": [
    "fig = go.Figure()\n",
    "fig.add_trace(go.Scatter(x = df1['Year'], y = df1['Eff'], name='League'))\n",
    "fig = fig.update_layout(xaxis_title='Year', yaxis_title='Average Eff')\n",
    "fig"
   ]
  },
  {
   "cell_type": "code",
   "execution_count": 54,
   "metadata": {},
   "outputs": [
    {
     "data": {
      "application/vnd.plotly.v1+json": {
       "config": {
        "plotlyServerURL": "https://plot.ly"
       },
       "data": [
        {
         "name": "League",
         "type": "scatter",
         "x": [
          "1997-1998",
          "1998-1999",
          "1999-2000",
          "2000-2001",
          "2001-2002",
          "2002-2003",
          "2003-2004",
          "2004-2005",
          "2005-2006",
          "2006-2007",
          "2007-2008",
          "2008-2009",
          "2009-2010",
          "2010-2011",
          "2011-2012",
          "2012-2013",
          "2013-2014",
          "2014-2015",
          "2015-2016",
          "2016-2017",
          "2017-2018",
          "2018-2019",
          "2019-2020",
          "2020-2021",
          "2021-2022"
         ],
         "y": [
          106.44827586206895,
          100.8965517241379,
          108.75172413793102,
          106.19310344827583,
          107.56551724137928,
          106.31724137931032,
          104.12758620689657,
          108.14137931034485,
          106.89310344827584,
          108.18620689655172,
          111.29310344827584,
          111.02758620689656,
          111.66206896551724,
          110.94827586206898,
          107.58275862068965,
          110.70689655172414,
          112.86206896551724,
          112.59655172413792,
          115.46551724137932,
          119.14827586206896,
          120.26551724137931,
          126.31724137931036,
          126.05172413793106,
          128.18275862068967,
          126.81379310344828
         ]
        }
       ],
       "layout": {
        "template": {
         "data": {
          "bar": [
           {
            "error_x": {
             "color": "#2a3f5f"
            },
            "error_y": {
             "color": "#2a3f5f"
            },
            "marker": {
             "line": {
              "color": "#E5ECF6",
              "width": 0.5
             },
             "pattern": {
              "fillmode": "overlay",
              "size": 10,
              "solidity": 0.2
             }
            },
            "type": "bar"
           }
          ],
          "barpolar": [
           {
            "marker": {
             "line": {
              "color": "#E5ECF6",
              "width": 0.5
             },
             "pattern": {
              "fillmode": "overlay",
              "size": 10,
              "solidity": 0.2
             }
            },
            "type": "barpolar"
           }
          ],
          "carpet": [
           {
            "aaxis": {
             "endlinecolor": "#2a3f5f",
             "gridcolor": "white",
             "linecolor": "white",
             "minorgridcolor": "white",
             "startlinecolor": "#2a3f5f"
            },
            "baxis": {
             "endlinecolor": "#2a3f5f",
             "gridcolor": "white",
             "linecolor": "white",
             "minorgridcolor": "white",
             "startlinecolor": "#2a3f5f"
            },
            "type": "carpet"
           }
          ],
          "choropleth": [
           {
            "colorbar": {
             "outlinewidth": 0,
             "ticks": ""
            },
            "type": "choropleth"
           }
          ],
          "contour": [
           {
            "colorbar": {
             "outlinewidth": 0,
             "ticks": ""
            },
            "colorscale": [
             [
              0,
              "#0d0887"
             ],
             [
              0.1111111111111111,
              "#46039f"
             ],
             [
              0.2222222222222222,
              "#7201a8"
             ],
             [
              0.3333333333333333,
              "#9c179e"
             ],
             [
              0.4444444444444444,
              "#bd3786"
             ],
             [
              0.5555555555555556,
              "#d8576b"
             ],
             [
              0.6666666666666666,
              "#ed7953"
             ],
             [
              0.7777777777777778,
              "#fb9f3a"
             ],
             [
              0.8888888888888888,
              "#fdca26"
             ],
             [
              1,
              "#f0f921"
             ]
            ],
            "type": "contour"
           }
          ],
          "contourcarpet": [
           {
            "colorbar": {
             "outlinewidth": 0,
             "ticks": ""
            },
            "type": "contourcarpet"
           }
          ],
          "heatmap": [
           {
            "colorbar": {
             "outlinewidth": 0,
             "ticks": ""
            },
            "colorscale": [
             [
              0,
              "#0d0887"
             ],
             [
              0.1111111111111111,
              "#46039f"
             ],
             [
              0.2222222222222222,
              "#7201a8"
             ],
             [
              0.3333333333333333,
              "#9c179e"
             ],
             [
              0.4444444444444444,
              "#bd3786"
             ],
             [
              0.5555555555555556,
              "#d8576b"
             ],
             [
              0.6666666666666666,
              "#ed7953"
             ],
             [
              0.7777777777777778,
              "#fb9f3a"
             ],
             [
              0.8888888888888888,
              "#fdca26"
             ],
             [
              1,
              "#f0f921"
             ]
            ],
            "type": "heatmap"
           }
          ],
          "heatmapgl": [
           {
            "colorbar": {
             "outlinewidth": 0,
             "ticks": ""
            },
            "colorscale": [
             [
              0,
              "#0d0887"
             ],
             [
              0.1111111111111111,
              "#46039f"
             ],
             [
              0.2222222222222222,
              "#7201a8"
             ],
             [
              0.3333333333333333,
              "#9c179e"
             ],
             [
              0.4444444444444444,
              "#bd3786"
             ],
             [
              0.5555555555555556,
              "#d8576b"
             ],
             [
              0.6666666666666666,
              "#ed7953"
             ],
             [
              0.7777777777777778,
              "#fb9f3a"
             ],
             [
              0.8888888888888888,
              "#fdca26"
             ],
             [
              1,
              "#f0f921"
             ]
            ],
            "type": "heatmapgl"
           }
          ],
          "histogram": [
           {
            "marker": {
             "pattern": {
              "fillmode": "overlay",
              "size": 10,
              "solidity": 0.2
             }
            },
            "type": "histogram"
           }
          ],
          "histogram2d": [
           {
            "colorbar": {
             "outlinewidth": 0,
             "ticks": ""
            },
            "colorscale": [
             [
              0,
              "#0d0887"
             ],
             [
              0.1111111111111111,
              "#46039f"
             ],
             [
              0.2222222222222222,
              "#7201a8"
             ],
             [
              0.3333333333333333,
              "#9c179e"
             ],
             [
              0.4444444444444444,
              "#bd3786"
             ],
             [
              0.5555555555555556,
              "#d8576b"
             ],
             [
              0.6666666666666666,
              "#ed7953"
             ],
             [
              0.7777777777777778,
              "#fb9f3a"
             ],
             [
              0.8888888888888888,
              "#fdca26"
             ],
             [
              1,
              "#f0f921"
             ]
            ],
            "type": "histogram2d"
           }
          ],
          "histogram2dcontour": [
           {
            "colorbar": {
             "outlinewidth": 0,
             "ticks": ""
            },
            "colorscale": [
             [
              0,
              "#0d0887"
             ],
             [
              0.1111111111111111,
              "#46039f"
             ],
             [
              0.2222222222222222,
              "#7201a8"
             ],
             [
              0.3333333333333333,
              "#9c179e"
             ],
             [
              0.4444444444444444,
              "#bd3786"
             ],
             [
              0.5555555555555556,
              "#d8576b"
             ],
             [
              0.6666666666666666,
              "#ed7953"
             ],
             [
              0.7777777777777778,
              "#fb9f3a"
             ],
             [
              0.8888888888888888,
              "#fdca26"
             ],
             [
              1,
              "#f0f921"
             ]
            ],
            "type": "histogram2dcontour"
           }
          ],
          "mesh3d": [
           {
            "colorbar": {
             "outlinewidth": 0,
             "ticks": ""
            },
            "type": "mesh3d"
           }
          ],
          "parcoords": [
           {
            "line": {
             "colorbar": {
              "outlinewidth": 0,
              "ticks": ""
             }
            },
            "type": "parcoords"
           }
          ],
          "pie": [
           {
            "automargin": true,
            "type": "pie"
           }
          ],
          "scatter": [
           {
            "fillpattern": {
             "fillmode": "overlay",
             "size": 10,
             "solidity": 0.2
            },
            "type": "scatter"
           }
          ],
          "scatter3d": [
           {
            "line": {
             "colorbar": {
              "outlinewidth": 0,
              "ticks": ""
             }
            },
            "marker": {
             "colorbar": {
              "outlinewidth": 0,
              "ticks": ""
             }
            },
            "type": "scatter3d"
           }
          ],
          "scattercarpet": [
           {
            "marker": {
             "colorbar": {
              "outlinewidth": 0,
              "ticks": ""
             }
            },
            "type": "scattercarpet"
           }
          ],
          "scattergeo": [
           {
            "marker": {
             "colorbar": {
              "outlinewidth": 0,
              "ticks": ""
             }
            },
            "type": "scattergeo"
           }
          ],
          "scattergl": [
           {
            "marker": {
             "colorbar": {
              "outlinewidth": 0,
              "ticks": ""
             }
            },
            "type": "scattergl"
           }
          ],
          "scattermapbox": [
           {
            "marker": {
             "colorbar": {
              "outlinewidth": 0,
              "ticks": ""
             }
            },
            "type": "scattermapbox"
           }
          ],
          "scatterpolar": [
           {
            "marker": {
             "colorbar": {
              "outlinewidth": 0,
              "ticks": ""
             }
            },
            "type": "scatterpolar"
           }
          ],
          "scatterpolargl": [
           {
            "marker": {
             "colorbar": {
              "outlinewidth": 0,
              "ticks": ""
             }
            },
            "type": "scatterpolargl"
           }
          ],
          "scatterternary": [
           {
            "marker": {
             "colorbar": {
              "outlinewidth": 0,
              "ticks": ""
             }
            },
            "type": "scatterternary"
           }
          ],
          "surface": [
           {
            "colorbar": {
             "outlinewidth": 0,
             "ticks": ""
            },
            "colorscale": [
             [
              0,
              "#0d0887"
             ],
             [
              0.1111111111111111,
              "#46039f"
             ],
             [
              0.2222222222222222,
              "#7201a8"
             ],
             [
              0.3333333333333333,
              "#9c179e"
             ],
             [
              0.4444444444444444,
              "#bd3786"
             ],
             [
              0.5555555555555556,
              "#d8576b"
             ],
             [
              0.6666666666666666,
              "#ed7953"
             ],
             [
              0.7777777777777778,
              "#fb9f3a"
             ],
             [
              0.8888888888888888,
              "#fdca26"
             ],
             [
              1,
              "#f0f921"
             ]
            ],
            "type": "surface"
           }
          ],
          "table": [
           {
            "cells": {
             "fill": {
              "color": "#EBF0F8"
             },
             "line": {
              "color": "white"
             }
            },
            "header": {
             "fill": {
              "color": "#C8D4E3"
             },
             "line": {
              "color": "white"
             }
            },
            "type": "table"
           }
          ]
         },
         "layout": {
          "annotationdefaults": {
           "arrowcolor": "#2a3f5f",
           "arrowhead": 0,
           "arrowwidth": 1
          },
          "autotypenumbers": "strict",
          "coloraxis": {
           "colorbar": {
            "outlinewidth": 0,
            "ticks": ""
           }
          },
          "colorscale": {
           "diverging": [
            [
             0,
             "#8e0152"
            ],
            [
             0.1,
             "#c51b7d"
            ],
            [
             0.2,
             "#de77ae"
            ],
            [
             0.3,
             "#f1b6da"
            ],
            [
             0.4,
             "#fde0ef"
            ],
            [
             0.5,
             "#f7f7f7"
            ],
            [
             0.6,
             "#e6f5d0"
            ],
            [
             0.7,
             "#b8e186"
            ],
            [
             0.8,
             "#7fbc41"
            ],
            [
             0.9,
             "#4d9221"
            ],
            [
             1,
             "#276419"
            ]
           ],
           "sequential": [
            [
             0,
             "#0d0887"
            ],
            [
             0.1111111111111111,
             "#46039f"
            ],
            [
             0.2222222222222222,
             "#7201a8"
            ],
            [
             0.3333333333333333,
             "#9c179e"
            ],
            [
             0.4444444444444444,
             "#bd3786"
            ],
            [
             0.5555555555555556,
             "#d8576b"
            ],
            [
             0.6666666666666666,
             "#ed7953"
            ],
            [
             0.7777777777777778,
             "#fb9f3a"
            ],
            [
             0.8888888888888888,
             "#fdca26"
            ],
            [
             1,
             "#f0f921"
            ]
           ],
           "sequentialminus": [
            [
             0,
             "#0d0887"
            ],
            [
             0.1111111111111111,
             "#46039f"
            ],
            [
             0.2222222222222222,
             "#7201a8"
            ],
            [
             0.3333333333333333,
             "#9c179e"
            ],
            [
             0.4444444444444444,
             "#bd3786"
            ],
            [
             0.5555555555555556,
             "#d8576b"
            ],
            [
             0.6666666666666666,
             "#ed7953"
            ],
            [
             0.7777777777777778,
             "#fb9f3a"
            ],
            [
             0.8888888888888888,
             "#fdca26"
            ],
            [
             1,
             "#f0f921"
            ]
           ]
          },
          "colorway": [
           "#636efa",
           "#EF553B",
           "#00cc96",
           "#ab63fa",
           "#FFA15A",
           "#19d3f3",
           "#FF6692",
           "#B6E880",
           "#FF97FF",
           "#FECB52"
          ],
          "font": {
           "color": "#2a3f5f"
          },
          "geo": {
           "bgcolor": "white",
           "lakecolor": "white",
           "landcolor": "#E5ECF6",
           "showlakes": true,
           "showland": true,
           "subunitcolor": "white"
          },
          "hoverlabel": {
           "align": "left"
          },
          "hovermode": "closest",
          "mapbox": {
           "style": "light"
          },
          "paper_bgcolor": "white",
          "plot_bgcolor": "#E5ECF6",
          "polar": {
           "angularaxis": {
            "gridcolor": "white",
            "linecolor": "white",
            "ticks": ""
           },
           "bgcolor": "#E5ECF6",
           "radialaxis": {
            "gridcolor": "white",
            "linecolor": "white",
            "ticks": ""
           }
          },
          "scene": {
           "xaxis": {
            "backgroundcolor": "#E5ECF6",
            "gridcolor": "white",
            "gridwidth": 2,
            "linecolor": "white",
            "showbackground": true,
            "ticks": "",
            "zerolinecolor": "white"
           },
           "yaxis": {
            "backgroundcolor": "#E5ECF6",
            "gridcolor": "white",
            "gridwidth": 2,
            "linecolor": "white",
            "showbackground": true,
            "ticks": "",
            "zerolinecolor": "white"
           },
           "zaxis": {
            "backgroundcolor": "#E5ECF6",
            "gridcolor": "white",
            "gridwidth": 2,
            "linecolor": "white",
            "showbackground": true,
            "ticks": "",
            "zerolinecolor": "white"
           }
          },
          "shapedefaults": {
           "line": {
            "color": "#2a3f5f"
           }
          },
          "ternary": {
           "aaxis": {
            "gridcolor": "white",
            "linecolor": "white",
            "ticks": ""
           },
           "baxis": {
            "gridcolor": "white",
            "linecolor": "white",
            "ticks": ""
           },
           "bgcolor": "#E5ECF6",
           "caxis": {
            "gridcolor": "white",
            "linecolor": "white",
            "ticks": ""
           }
          },
          "title": {
           "x": 0.05
          },
          "xaxis": {
           "automargin": true,
           "gridcolor": "white",
           "linecolor": "white",
           "ticks": "",
           "title": {
            "standoff": 15
           },
           "zerolinecolor": "white",
           "zerolinewidth": 2
          },
          "yaxis": {
           "automargin": true,
           "gridcolor": "white",
           "linecolor": "white",
           "ticks": "",
           "title": {
            "standoff": 15
           },
           "zerolinecolor": "white",
           "zerolinewidth": 2
          }
         }
        },
        "xaxis": {
         "title": {
          "text": "Year"
         }
        },
        "yaxis": {
         "title": {
          "text": "Average Eff"
         }
        }
       }
      }
     },
     "metadata": {},
     "output_type": "display_data"
    }
   ],
   "source": [
    "fig"
   ]
  },
  {
   "cell_type": "code",
   "execution_count": null,
   "metadata": {},
   "outputs": [],
   "source": []
  }
 ],
 "metadata": {
  "kernelspec": {
   "display_name": "eda",
   "language": "python",
   "name": "python3"
  },
  "language_info": {
   "codemirror_mode": {
    "name": "ipython",
    "version": 3
   },
   "file_extension": ".py",
   "mimetype": "text/x-python",
   "name": "python",
   "nbconvert_exporter": "python",
   "pygments_lexer": "ipython3",
   "version": "3.11.2"
  },
  "orig_nbformat": 4
 },
 "nbformat": 4,
 "nbformat_minor": 2
}
